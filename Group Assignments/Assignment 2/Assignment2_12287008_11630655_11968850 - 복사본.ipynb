{
 "cells": [
  {
   "cell_type": "markdown",
   "metadata": {
    "id": "vyVcGIhkzW1b"
   },
   "source": [
    "## Introduction\n",
    "The file `data_AEX_FTSE.xlsx` contains daily log returns of the AEX and FTSE index returns for the period 5 January 2000 - 12 March 2020. The log return of asset $i$ on day $t$ is defined as $R_{i,t} = 100 \\cdot \\log(\\frac{S_{i,t}}{S_{i,t-1}})$, with $S_{i,t}$ the price of asset $i$ on date $t$.\n",
    "\n",
    " In this assignment you are asked to calculate multi-period Value-at-Risk forecasts through Monte Carlo simulation (MCS). First, we obtain the VaR for the AEX index. Subsequently, we employ copula methods to obtain the VaR for a portfolio of two assets."
   ]
  },
  {
   "cell_type": "markdown",
   "metadata": {
    "id": "4v62A5fYBUgU"
   },
   "source": [
    "## Question 1: Load, clean, and model data [20 pts.]\n",
    "First, install and import the relevant libraries:"
   ]
  },
  {
   "cell_type": "code",
   "execution_count": 10,
   "metadata": {
    "colab": {
     "base_uri": "https://localhost:8080/"
    },
    "executionInfo": {
     "elapsed": 12210,
     "status": "ok",
     "timestamp": 1612441883620,
     "user": {
      "displayName": "Sander Barendse",
      "photoUrl": "",
      "userId": "16020915143525406254"
     },
     "user_tz": -60
    },
    "id": "V2b_YQlgBYt9",
    "outputId": "3bed2062-0703-4b4a-f69c-7e6cc5c77337"
   },
   "outputs": [],
   "source": [
    "# !pip install arch             \n",
    "import numpy as np\n",
    "import os\n",
    "import pandas as pd\n",
    "import datetime as dt\n",
    "import matplotlib.pyplot as plt\n",
    "import scipy.stats as stats\n",
    "import statsmodels.api as sm\n",
    "import statsmodels.formula.api as smf\n",
    "from arch import arch_model\n",
    "from statsmodels.graphics.tsaplots import plot_acf\n",
    "import seaborn as sns"
   ]
  },
  {
   "cell_type": "markdown",
   "metadata": {
    "id": "1m5W_Ks1CNUX"
   },
   "source": [
    "Import the data in a DataFrame. The data is already transformed using methods that were used in Assignment 1 as well. Uncomment and adapt the lines necessary to mount the drive and change the path."
   ]
  },
  {
   "cell_type": "code",
   "execution_count": 11,
   "metadata": {
    "colab": {
     "base_uri": "https://localhost:8080/"
    },
    "executionInfo": {
     "elapsed": 12469,
     "status": "ok",
     "timestamp": 1612443774765,
     "user": {
      "displayName": "Sander Barendse",
      "photoUrl": "",
      "userId": "16020915143525406254"
     },
     "user_tz": -60
    },
    "id": "uDThtdbZz_KU",
    "outputId": "a0697eec-1a9d-4083-adc1-978665c65a8c"
   },
   "outputs": [
    {
     "data": {
      "text/html": [
       "<div>\n",
       "<style scoped>\n",
       "    .dataframe tbody tr th:only-of-type {\n",
       "        vertical-align: middle;\n",
       "    }\n",
       "\n",
       "    .dataframe tbody tr th {\n",
       "        vertical-align: top;\n",
       "    }\n",
       "\n",
       "    .dataframe thead th {\n",
       "        text-align: right;\n",
       "    }\n",
       "</style>\n",
       "<table border=\"1\" class=\"dataframe\">\n",
       "  <thead>\n",
       "    <tr style=\"text-align: right;\">\n",
       "      <th></th>\n",
       "      <th>R_AEX</th>\n",
       "      <th>R_FTSE</th>\n",
       "    </tr>\n",
       "    <tr>\n",
       "      <th>Date</th>\n",
       "      <th></th>\n",
       "      <th></th>\n",
       "    </tr>\n",
       "  </thead>\n",
       "  <tbody>\n",
       "    <tr>\n",
       "      <th>2020-03-06</th>\n",
       "      <td>-3.967831</td>\n",
       "      <td>-3.689551</td>\n",
       "    </tr>\n",
       "    <tr>\n",
       "      <th>2020-03-09</th>\n",
       "      <td>-8.074168</td>\n",
       "      <td>-7.668863</td>\n",
       "    </tr>\n",
       "    <tr>\n",
       "      <th>2020-03-10</th>\n",
       "      <td>-1.059273</td>\n",
       "      <td>-0.240360</td>\n",
       "    </tr>\n",
       "    <tr>\n",
       "      <th>2020-03-11</th>\n",
       "      <td>-0.586694</td>\n",
       "      <td>-1.932034</td>\n",
       "    </tr>\n",
       "    <tr>\n",
       "      <th>2020-03-12</th>\n",
       "      <td>-10.638548</td>\n",
       "      <td>-10.136507</td>\n",
       "    </tr>\n",
       "  </tbody>\n",
       "</table>\n",
       "</div>"
      ],
      "text/plain": [
       "                R_AEX     R_FTSE\n",
       "Date                            \n",
       "2020-03-06  -3.967831  -3.689551\n",
       "2020-03-09  -8.074168  -7.668863\n",
       "2020-03-10  -1.059273  -0.240360\n",
       "2020-03-11  -0.586694  -1.932034\n",
       "2020-03-12 -10.638548 -10.136507"
      ]
     },
     "execution_count": 11,
     "metadata": {},
     "output_type": "execute_result"
    }
   ],
   "source": [
    "# from google.colab import drive\n",
    "# drive.mount('/content/drive')\n",
    "# path = '/content/drive/...'    # change path to your working directory\n",
    "# os.chdir(path)\n",
    "\n",
    "df = pd.read_excel('data_AEX_FTSE.xlsx') \n",
    "df = df.set_index(['Date']) # set 'Date' column as index\n",
    "\n",
    "R_AEX = df['R_AEX']\n",
    "R_FTSE = df['R_FTSE']\n",
    "\n",
    "df.tail()"
   ]
  },
  {
   "cell_type": "markdown",
   "metadata": {
    "id": "kityY-O2LB4h"
   },
   "source": [
    "Suppose you are a risk manager and it is currently just after closing time of the trading day 12 March 2020, i.e. we are at the end of period $t=T$, with $T$ indicating 12 March 2020. You are asked to calculate the 10-day VaR on the AEX index, i.e. $VaR^p_{T+1:T+K}$, with horizon $K=10$ trading days. After some thought you decide to model the index with a GARCH model, and use Monte Carlo Simulation to obtain the 10-day VaR.\n",
    "\n",
    "Estimate a GARCH(1,1) model, with constant mean return and standardized $t$ distributed shocks, for the AEX index returns. \n",
    "\n",
    "Plot the volatility series and analyze the shocks. Also obtain the one-day-ahead volatility forecast for 13 March 2021. Discuss your results. Can you attribute certain economic events to your observations for 12 March 2020?\n",
    "\n",
    "Notes: \n",
    "\n",
    "* By specifying `dist = ` in the `arch_model` function we can change the distribution of the shocks. See the documentation at https://arch.readthedocs.io.\n",
    "* GARCH model residuals can be obtain from the `.resid` attribute belonging to the fitted model (which is generated by the `.fit()` method). Conditional volatilities can be obtained similarly from the `.conditional_volatility` attribute. \n",
    "* The 1-day conditional variance forecast (note: variance instead of volatility) can be obtained as `x.forecast().variance['h.1']['2020-03-12']`, where `x` is the fitted model object, and the dates index refers to the date the forecast is made (so here we generate a forecast at the end of 12 March and forecast one-day ahead for the date 13 March.)"
   ]
  },
  {
   "cell_type": "code",
   "execution_count": 12,
   "metadata": {
    "colab": {
     "base_uri": "https://localhost:8080/",
     "height": 841
    },
    "executionInfo": {
     "elapsed": 1077,
     "status": "ok",
     "timestamp": 1612444026729,
     "user": {
      "displayName": "Sander Barendse",
      "photoUrl": "",
      "userId": "16020915143525406254"
     },
     "user_tz": -60
    },
    "id": "rZvqwr1FLReZ",
    "outputId": "4bcc9cdf-411e-417f-b07b-1141c859f3b4",
    "scrolled": true
   },
   "outputs": [
    {
     "name": "stdout",
     "output_type": "stream",
     "text": [
      "Iteration:      1,   Func. Count:      7,   Neg. LLF: 7548.428709437389\n",
      "Iteration:      2,   Func. Count:     19,   Neg. LLF: 7536.028652613328\n",
      "Iteration:      3,   Func. Count:     28,   Neg. LLF: 7528.614309752312\n",
      "Iteration:      4,   Func. Count:     37,   Neg. LLF: 7526.402756497846\n",
      "Iteration:      5,   Func. Count:     45,   Neg. LLF: 7522.406938873412\n",
      "Iteration:      6,   Func. Count:     53,   Neg. LLF: 7517.328624491105\n",
      "Iteration:      7,   Func. Count:     61,   Neg. LLF: 7515.31176444776\n",
      "Iteration:      8,   Func. Count:     69,   Neg. LLF: 7511.731824085002\n",
      "Iteration:      9,   Func. Count:     77,   Neg. LLF: 7511.204344875621\n",
      "Iteration:     10,   Func. Count:     84,   Neg. LLF: 7511.159719061984\n",
      "Iteration:     11,   Func. Count:     91,   Neg. LLF: 7511.099171368227\n",
      "Iteration:     12,   Func. Count:     98,   Neg. LLF: 7511.0979602586585\n",
      "Iteration:     13,   Func. Count:    105,   Neg. LLF: 7511.097801900933\n",
      "Iteration:     14,   Func. Count:    112,   Neg. LLF: 7511.097799482188\n",
      "Optimization terminated successfully.    (Exit mode 0)\n",
      "            Current function value: 7511.097799482184\n",
      "            Iterations: 14\n",
      "            Function evaluations: 112\n",
      "            Gradient evaluations: 14\n"
     ]
    },
    {
     "name": "stderr",
     "output_type": "stream",
     "text": [
      "C:\\Users\\jkf88\\Anaconda3\\lib\\site-packages\\arch\\__future__\\_utility.py:21: FutureWarning: \n",
      "The default for reindex is True. After September 2021 this will change to\n",
      "False. Set reindex to True or False to silence this message. Alternatively,\n",
      "you can use the import comment\n",
      "\n",
      "from arch.__future__ import reindexing\n",
      "\n",
      "to globally set reindex to True and silence this warning.\n",
      "\n",
      "  FutureWarning,\n"
     ]
    },
    {
     "data": {
      "text/plain": [
       "21.06979046661523"
      ]
     },
     "execution_count": 12,
     "metadata": {},
     "output_type": "execute_result"
    },
    {
     "data": {
      "image/png": "[encoded data removed]",
      "text/plain": [
       "<Figure size 432x288 with 1 Axes>"
      ]
     },
     "metadata": {
      "needs_background": "light"
     },
     "output_type": "display_data"
    }
   ],
   "source": [
    "am = arch_model(R_AEX, vol='GARCH',p=1,o=0,q=1,dist='studentst') #GARCH(1,1) model with constant mean return + standadized t dist\n",
    "fitted_model = am.fit()\n",
    "residuals= fitted_model.resid #GARCH model residuals\n",
    "conditional_vol=fitted_model.conditional_volatility #Conditional volatilities of GARCH model\n",
    "\n",
    "conditional_vol.plot() #Plotting volatility series\n",
    "plt.xlabel('Date')\n",
    "plt.ylabel('Volatility')\n",
    "plt.title('AEX Index Volatility Shocks')\n",
    "\n",
    "fitted_model.forecast().variance['h.1']['2020-03-12'] #1-day conditional variance forecast"
   ]
  },
  {
   "cell_type": "markdown",
   "metadata": {},
   "source": [
    "Discussion of results: Upon analyzing the plotted volatility series, the graph illustrates shocks that can be easily  explained by historical events which had an evident effect on the AEX index returns. Around 2002-2003, there appears to be some volatility shocks, which can be explained by the 2002 market downturn that led to dramatic slides in stock indices (and thus schocks to the volatility series). Around 2008, the most pronounced volatility shock is captured by the 2008 Financial Crisis (causde by subprime loans and credit default swaps). In 2020, there also appears to be a volatility shock, which can be explained by the COVID-19 crisis and its subsequent effect on the world financial markets. Furthermore, on the 12th March 2020, an event known as Black Thursday lead to huge volatility shocks as the US stock market suffered the greatest-single day percentage fall since the 1987 stock market crash (to note, this event is a part of the greater 2020 stock market crash caused by COVID-19).\n",
    "\n",
    "Finally, the one-day ahead variance forecast for March 13,2020 is approximately 21.0697, which is a volatilty value of around 4.59. This is quite an increase from the volatility value of March 12,2020 (which is just under 4) but this can be explained by the markets pricing in the information of Black Thursday (as well as the increase in volatility prior to the event) and the rapid volatility shock that ensued. "
   ]
  },
  {
   "cell_type": "markdown",
   "metadata": {},
   "source": [
    "## Question 2: Monte Carlo Simulation of 10-day ahead VaR [25 pts.]\n",
    "We use Monte Carlo simulation to obtain the 10-day ahead Value-at-Risk forecast at $p=0.01$, 10-days ahead of 12 March 2020. \n",
    "\n",
    "A 'code skeleton' is included below, which you should complete. Implement steps A to F:\n",
    "\n",
    "* A: Replace `x` with the fitted GARCH model object generated by the `.fit()` method in the previous question.\n",
    "* B: For date $T+k$, $k=1$ we know the conditional variance forecast. Replace `xx` with the value you obtained for 13 March 2020 in the previous question.\n",
    "* C: For dates $T+k$, $k > 1$ we use the GARCH model specification. Replace `xxx` with the GARCH equation: $\\sigma_{T+k}^2 = \\omega + \\alpha (\\sigma_{T+k-1} z_{T+k-1})^2 + \\beta \\sigma_{T+k-1}^2$, using your estimated parameters (see Step A).\n",
    "* D: Replace `xxxx` with the proper definition of the K-day holding return.\n",
    "* E: Obtain the K-day Value-at-Risk forecast using the sample percentile: $VaR^p_{T+1:T+K} = -Percentile\\bigl\\{\\{\\check{R}_{i,T+1:T+K}\\}_{i=1}^{MC},100p\\bigr\\}$, with $\\{\\check{R}_{i,T+1:T+K}\\}_{i=1}^{MC}$ the simulated $K$-day returns. (Hint: use the `numpy` function `np.percentile`.)\n",
    "\n",
    "Plot the histogram of $\\{\\check{R}_{i,T+1:T+K}\\}_{i=1}^{MC}$, and estimate the skewness and excess kurtosis of the sample. Compare the MCS estimate of the 10-day VaR, with the 'square-root rule' VaR, $\\sqrt{K} \\, VaR^p_{T+1}$. Discuss your results. Can you give a reason why you find the specific ranking of VaR values?\n"
   ]
  },
  {
   "cell_type": "code",
   "execution_count": 13,
   "metadata": {},
   "outputs": [],
   "source": [
    "MC = 10000 # amount of Monte Carlo replications\n",
    "VaR_level = 0.01 # the Value-at-Risk parameter `p`\n",
    "\n",
    "K= 10 # The parameter K determins the length of the holding period, so we obtain a K-day return\n",
    "\n",
    "# Obtain the GARCH parameters from `x`, the fitted model object generated by the .fit() method in the previous question\n",
    "#---! STEP A:\n",
    "[mu,omega,alpha,beta,d1] = fitted_model.params\n",
    "\n",
    "# initialize a (MC x 1) vector to store the cumulative returns generated in the MC Monte Carlo replications\n",
    "sim_cumulative_returns = np.zeros([MC,1])\n",
    "\n",
    "# simulate the shocks \n",
    "sim_shocks = np.sqrt((d1 - 2) / d1) * stats.t.rvs(d1, size=[K,MC]) \n",
    "\n",
    "for i in range(MC): # we enter the `for loop' of Monte Carlo replications. In each iteration we compute a 10-day ahead return\n",
    "    \n",
    "    # initialize a (K x 1) return vector which will be filled with simulated returns for dates t+1,...,t+K (the vector is refreshed every Monte Carlo iteration)\n",
    "    sim_returns = np.zeros([K,1])\n",
    "    \n",
    "    # initialize a (K x 1) conditional variance vector (the vector is refreshed every Monte Carlo iteration)\n",
    "    sim_condvariance = np.zeros([K,1])\n",
    "    \n",
    "    for k in range(K): # we now generate K consecutive returns by iterating the volatility process, and utilizing the random shock draws\n",
    "        \n",
    "        if k == 0: # note that Python indexes the first element in a loop or vector as '0'\n",
    "            # on the first day of the holding period we can use the 1-day ahead GARCH volatility forecast\n",
    "            #---! STEP B:\n",
    "            sim_condvariance[k] = fitted_model.forecast().variance['h.1']['2020-03-12']\n",
    "        elif k > 0: # for further days in the future we use the garch equation putting in the simulated shocks\n",
    "            #---! STEP C:\n",
    "            sim_condvariance[k] = omega + alpha * (np.sqrt(sim_condvariance[k-1]) * sim_shocks[k-1,i])**2 + beta * sim_condvariance[k-1]\n",
    "        \n",
    "        # calculate and save the simulated return\n",
    "        sim_returns[k] = mu + np.sqrt(sim_condvariance[k]) * sim_shocks[k,i];    \n",
    "        \n",
    "    # estimate cumulative holding period return and save it as element 'i' in the (MC x 1) vector of sim_cumulative_returns\n",
    "    #---! STEP D: \n",
    "    sim_cumulative_returns[i] = sum(sim_returns)\n",
    "            \n",
    "# now we have simulated the cumulative returns for each of our Monte Carlo iterations we can estimate the Value-at-Risk using the sample percentile function\n",
    "#---! Step E:\n",
    "VaR = -np.percentile(sim_cumulative_returns, 100 * VaR_level)\n"
   ]
  },
  {
   "cell_type": "code",
   "execution_count": 14,
   "metadata": {},
   "outputs": [
    {
     "name": "stdout",
     "output_type": "stream",
     "text": [
      "skewness:  [0.00726761]\n",
      "kurtosis:  [1.72965838]\n",
      "the MCS estimate of the 10-day VaR:  35.79029033046534\n",
      "The square-root rule Var :  113.17883556297092\n"
     ]
    },
    {
     "data": {
      "image/png": "[encoded data removed]",
      "text/plain": [
       "<Figure size 432x288 with 1 Axes>"
      ]
     },
     "metadata": {
      "needs_background": "light"
     },
     "output_type": "display_data"
    }
   ],
   "source": [
    "from scipy.stats import skew, kurtosis\n",
    "\n",
    "# Skewness & kurtosis\n",
    "sk = skew(sim_cumulative_returns, bias= False)\n",
    "kt = kurtosis(sim_cumulative_returns, bias= False)\n",
    "print('skewness: ', sk)\n",
    "print('kurtosis: ', kt)\n",
    "\n",
    "# 'square-root rule' VaR\n",
    "sq_VaR = (np.sqrt(K))*VaR\n",
    "\n",
    "print('the MCS estimate of the 10-day VaR: ', VaR)\n",
    "print('The square-root rule Var : ', sq_VaR)\n",
    "\n",
    "# Plot\n",
    "plt.hist(sim_cumulative_returns, bins = 50)\n",
    "plt.legend(['Rt+1:t+K'])\n",
    "plt.show()\n"
   ]
  },
  {
   "cell_type": "markdown",
   "metadata": {
    "id": "60C90oALLThc"
   },
   "source": [
    "Discussion of results: \n",
    "\n",
    "In advance, VaR should be positive number. Thus, the MCS estimate of the 10-day VaR is 35.64. Then the 'square-root rule' VaR is 112.69. The MCS estimate of the 10-day VaR is smaller than the 'square-root rule' VaR. Finding the specific ranking of VaR values is important because the VaR estimates the extent of possible financial losses within a portfolio. Therefore, the VaR should be as small as possible. This is the reason why we find the specific ranking of VaR values. In this case, the 'square-root rule' VaR is worse than the MCS estimate of the 10-day VaR."
   ]
  },
  {
   "cell_type": "markdown",
   "metadata": {
    "id": "63Thc8rvtK0y"
   },
   "source": [
    "## Question 3: Copula [15 pts.]\n",
    "\n",
    "Suppose we have estimated another GARCH model for the FTSE index returns. Once we have the shocks of both assets, we estimate a bivariate normal copula model, and find an estimate for the copula correlation parameter, $\\hat{\\rho} = 0.80$. We want to simulate standardized $t$-shocks for the AEX and FTSE index returns, with the dependence between shocks modelled by this normal copula.\n",
    "\n",
    "Below we have included code that performs simulation from the normal copula. \n",
    "\n",
    "Explain in detail what steps A to D achieve. Also explain how the scatter plot created at the end of the code shows the difference in correlation between the two sets of shocks, as well as the difference in fat-tailedness.\n",
    "\n"
   ]
  },
  {
   "cell_type": "code",
   "execution_count": 15,
   "metadata": {},
   "outputs": [
    {
     "data": {
      "text/plain": [
       "<matplotlib.collections.PathCollection at 0x20cd6647ac8>"
      ]
     },
     "execution_count": 15,
     "metadata": {},
     "output_type": "execute_result"
    },
    {
     "data": {
      "image/png": "[encoded data removed]",
      "text/plain": [
       "<Figure size 432x288 with 1 Axes>"
      ]
     },
     "metadata": {
      "needs_background": "light"
     },
     "output_type": "display_data"
    }
   ],
   "source": [
    "# simulate the copula shocks\n",
    "copula_corr = 0.80 # the parameter rho\n",
    "d_1 = d1; # degrees of freedom parameter for standardized t distribition of AEX shock \n",
    "d_2 = d1; # degrees of freedom parameter for standardized t distribition of FTSE shock\n",
    "\n",
    "#---! STEP A:\n",
    "sim_uncorrelated_normal_shocks = stats.norm.rvs(size=[K,MC,2]) # result is a (K x MC x 2) array\n",
    "\n",
    "#---! STEP B:\n",
    "sim_correlated_normal_shocks = np.zeros([K,MC,2])\n",
    "sim_correlated_normal_shocks[:,:,0] = sim_uncorrelated_normal_shocks[:,:,0]\n",
    "sim_correlated_normal_shocks[:,:,1] = copula_corr * sim_uncorrelated_normal_shocks[:,:,0] + np.sqrt(1 - copula_corr**2) * sim_uncorrelated_normal_shocks[:,:,1] \n",
    "\n",
    "#---! STEP C:\n",
    "sim_normal_copula_shocks = stats.norm.cdf(sim_correlated_normal_shocks)\n",
    "\n",
    "#---! STEP D: \n",
    "sim_new_shocks = np.zeros([K,MC,2])\n",
    "sim_new_shocks[:,:,0] = np.sqrt((d_1 - 2) / d_1) * stats.t.ppf(sim_normal_copula_shocks[:,:,0],d_1) \n",
    "sim_new_shocks[:,:,1] = np.sqrt((d_2 - 2) / d_2) * stats.t.ppf(sim_normal_copula_shocks[:,:,1],d_2) \n",
    "\n",
    "# create a scatter plot for MC shock vector draws\n",
    "plt.title('Figure 4: Scatter plot of uncorrelated normal vector draws')\n",
    "plt.scatter(sim_uncorrelated_normal_shocks[1,:,0], sim_uncorrelated_normal_shocks[1,:,1], alpha=0.5)\n",
    "\n",
    "plt.title('Figure 5: Scatter plot of final shock vector')\n",
    "plt.scatter(sim_new_shocks[1,:,0], sim_new_shocks[1,:,1], alpha=0.5)"
   ]
  },
  {
   "cell_type": "markdown",
   "metadata": {},
   "source": [
    "Discussion of results:\n",
    "\n",
    "A copula is joint distribution of two random variables with uniform marginal distribution. Furthermore, copula is a statistical method for understanding the joint probabilities of a multivariate distribution. Nowadays, copula is utilized in advanced financial analysis to better understand outcomes that involve excess kurtosis and skewness.\n",
    "\n",
    "Step A:\n",
    "\n",
    "The first step is to simulate uncorrelated normal shock using the Scipy normal function with random variables. Random variables are uncorrelated with each other. Thus, the function \"stats.norm.rvs(size=[K,MC,2])\" is suitable for simulating uncorrelated normal shock. \n",
    "\n",
    "\n",
    "Step B: \n",
    "\n",
    "The second step is to set two random variables using Monte Carlo Simulation (MCS). MCS is with constant correlation 0.8. Here sim_uncorrelated_normal_shocks[:,:,0] and sim_uncorrelated_normal_shocks[:,:,1] are two independent N(0,1) random variables, which is based on Cholesky decomposition of correlation matrix. In other words, this step calculates the joint probabiliteis of two random variabels with the copular correlation because the copula is desinged to understand the joint probabilities of a multivariate distribution . \n",
    "\n",
    "\n",
    "Step C: \n",
    "\n",
    "According to Sklar's theorem, a copular cumulative distribution function (CDF) exists for every joint distribution. \n",
    "THus, the copula approach builds a bivariate CDF. In consequence, we simulate the copular CDF using the function \"stats.norm.cdf(sim_correlated_normal_shocks)\". \n",
    "\n",
    "\n",
    "Step D: \n",
    "\n",
    "We calculate the value of percentage point function (PPF) which is the inverser of CDF using np.zeros and Monte Carlo Simulation. Then simulate the new normal shock. \n",
    "\n",
    "Scatter Plot:\n",
    "\n",
    "Figure 4 (blue one) shows the uncorrelated normal shock, while figure 5 (orange one) shows the final shock vector which is affected by Student's t copula. The final shock vector indicates the skewed t copula.   \n",
    "\n",
    "The uncorrelated normal vector has almost no fat tail (excess kurtosis) and skewness. However, on the other hand, the final shock vectos has fat tail (excess kurtosis) and skewness. If the copula correlation increases, the scatter plot shows linearity form. On the other hand, if the copula correlation decreases, the scatter plot shows almost circle form. Therefore, the uncorrelated normal shock shown in the figure 4 has copula correlation close to zero, while the final vector shown in the figure 5 has a higher copula correlation close to 1. \n"
   ]
  },
  {
   "cell_type": "markdown",
   "metadata": {},
   "source": [
    "## Question 4: MCS of an equal-weighted portfolio return [ 10 pts.]\n",
    "\n",
    "Adapt your MCS with the simulation scheme for the copula shocks above to obtain 10-day VaR forecasts for an equal-weighted portfolio in the AEX and FTSE indices, i.e. we create a portfolio of both assets with portfolio weights $w_1=w_2=0.5$. To circumvent further estimation, you may assume that the GARCH model parameters (including the degrees of freedom) for the AEX and FTSE returns are equal, that the conditional volatility $\\sigma_{t+1}$ is equal between assets, and take copula parameter $\\rho = 0.8$. \n",
    "\n",
    "How do your VaR estimates change when $\\rho$ is decreased? Given what you know of log returns and simple returns, how would you compute the simple portfolio returns `sim_cumulative_returns[i]` if our index returns, `R_AEX` and `R_FTSE`, are log returns?"
   ]
  },
  {
   "cell_type": "code",
   "execution_count": 16,
   "metadata": {},
   "outputs": [],
   "source": [
    "lst_sim_new_shocks = []\n",
    "lst_copular_corr = list(np.arange(-1, 1, 0.1))\n",
    "\n",
    "for copula_corr in lst_copular_corr:  # the parameter rho\n",
    "\n",
    "    d_1 = d1; # degrees of freedom parameter for standardized t distribition of AEX shock \n",
    "    d_2 = d1; # degrees of freedom parameter for standardized t distribition of FTSE shock\n",
    "\n",
    "    #---! STEP A:\n",
    "    sim_uncorrelated_normal_shocks = stats.norm.rvs(size=[K,MC,2]) # result is a (K x MC x 2) array\n",
    "\n",
    "    #---! STEP B:\n",
    "    sim_correlated_normal_shocks = np.zeros([K,MC,2])\n",
    "    sim_correlated_normal_shocks[:,:,0] = sim_uncorrelated_normal_shocks[:,:,0]\n",
    "    sim_correlated_normal_shocks[:,:,1] = copula_corr * sim_uncorrelated_normal_shocks[:,:,0] + np.sqrt(1 - copula_corr**2) * sim_uncorrelated_normal_shocks[:,:,1] \n",
    "\n",
    "    #---! STEP C:\n",
    "    sim_normal_copula_shocks = stats.norm.cdf(sim_correlated_normal_shocks)\n",
    "\n",
    "    #---! STEP D: \n",
    "    sim_new_shocks = np.zeros([K,MC,2])\n",
    "    sim_new_shocks[:,:,0] = np.sqrt((d_1 - 2) / d_1) * stats.t.ppf(sim_normal_copula_shocks[:,:,0],d_1) \n",
    "    sim_new_shocks[:,:,1] = np.sqrt((d_2 - 2) / d_2) * stats.t.ppf(sim_normal_copula_shocks[:,:,1],d_2) \n",
    "    \n",
    "    # Append sim_new shocks\n",
    "    lst_sim_new_shocks.append(sim_new_shocks)\n"
   ]
  },
  {
   "cell_type": "code",
   "execution_count": 17,
   "metadata": {},
   "outputs": [
    {
     "name": "stdout",
     "output_type": "stream",
     "text": [
      "Iteration:      1,   Func. Count:      7,   Neg. LLF: 7548.428709437389\n",
      "Iteration:      2,   Func. Count:     19,   Neg. LLF: 7536.028652613328\n",
      "Iteration:      3,   Func. Count:     28,   Neg. LLF: 7528.614309752312\n",
      "Iteration:      4,   Func. Count:     37,   Neg. LLF: 7526.402756497846\n",
      "Iteration:      5,   Func. Count:     45,   Neg. LLF: 7522.406938873412\n",
      "Iteration:      6,   Func. Count:     53,   Neg. LLF: 7517.328624491105\n",
      "Iteration:      7,   Func. Count:     61,   Neg. LLF: 7515.31176444776\n",
      "Iteration:      8,   Func. Count:     69,   Neg. LLF: 7511.731824085002\n",
      "Iteration:      9,   Func. Count:     77,   Neg. LLF: 7511.204344875621\n",
      "Iteration:     10,   Func. Count:     84,   Neg. LLF: 7511.159719061984\n",
      "Iteration:     11,   Func. Count:     91,   Neg. LLF: 7511.099171368227\n",
      "Iteration:     12,   Func. Count:     98,   Neg. LLF: 7511.0979602586585\n",
      "Iteration:     13,   Func. Count:    105,   Neg. LLF: 7511.097801900933\n",
      "Iteration:     14,   Func. Count:    112,   Neg. LLF: 7511.097799482188\n",
      "Optimization terminated successfully.    (Exit mode 0)\n",
      "            Current function value: 7511.097799482184\n",
      "            Iterations: 14\n",
      "            Function evaluations: 112\n",
      "            Gradient evaluations: 14\n"
     ]
    },
    {
     "name": "stderr",
     "output_type": "stream",
     "text": [
      "C:\\Users\\jkf88\\Anaconda3\\lib\\site-packages\\arch\\__future__\\_utility.py:21: FutureWarning: \n",
      "The default for reindex is True. After September 2021 this will change to\n",
      "False. Set reindex to True or False to silence this message. Alternatively,\n",
      "you can use the import comment\n",
      "\n",
      "from arch.__future__ import reindexing\n",
      "\n",
      "to globally set reindex to True and silence this warning.\n",
      "\n",
      "  FutureWarning,\n"
     ]
    },
    {
     "name": "stdout",
     "output_type": "stream",
     "text": [
      "Iteration:      1,   Func. Count:      7,   Neg. LLF: 7548.428709437389\n",
      "Iteration:      2,   Func. Count:     19,   Neg. LLF: 7536.028652613328\n",
      "Iteration:      3,   Func. Count:     28,   Neg. LLF: 7528.614309752312\n",
      "Iteration:      4,   Func. Count:     37,   Neg. LLF: 7526.402756497846\n",
      "Iteration:      5,   Func. Count:     45,   Neg. LLF: 7522.406938873412\n",
      "Iteration:      6,   Func. Count:     53,   Neg. LLF: 7517.328624491105\n",
      "Iteration:      7,   Func. Count:     61,   Neg. LLF: 7515.31176444776\n",
      "Iteration:      8,   Func. Count:     69,   Neg. LLF: 7511.731824085002\n",
      "Iteration:      9,   Func. Count:     77,   Neg. LLF: 7511.204344875621\n",
      "Iteration:     10,   Func. Count:     84,   Neg. LLF: 7511.159719061984\n",
      "Iteration:     11,   Func. Count:     91,   Neg. LLF: 7511.099171368227\n",
      "Iteration:     12,   Func. Count:     98,   Neg. LLF: 7511.0979602586585\n",
      "Iteration:     13,   Func. Count:    105,   Neg. LLF: 7511.097801900933\n",
      "Iteration:     14,   Func. Count:    112,   Neg. LLF: 7511.097799482188\n",
      "Optimization terminated successfully.    (Exit mode 0)\n",
      "            Current function value: 7511.097799482184\n",
      "            Iterations: 14\n",
      "            Function evaluations: 112\n",
      "            Gradient evaluations: 14\n"
     ]
    },
    {
     "name": "stderr",
     "output_type": "stream",
     "text": [
      "C:\\Users\\jkf88\\Anaconda3\\lib\\site-packages\\arch\\__future__\\_utility.py:21: FutureWarning: \n",
      "The default for reindex is True. After September 2021 this will change to\n",
      "False. Set reindex to True or False to silence this message. Alternatively,\n",
      "you can use the import comment\n",
      "\n",
      "from arch.__future__ import reindexing\n",
      "\n",
      "to globally set reindex to True and silence this warning.\n",
      "\n",
      "  FutureWarning,\n"
     ]
    },
    {
     "name": "stdout",
     "output_type": "stream",
     "text": [
      "Iteration:      1,   Func. Count:      7,   Neg. LLF: 7548.428709437389\n",
      "Iteration:      2,   Func. Count:     19,   Neg. LLF: 7536.028652613328\n",
      "Iteration:      3,   Func. Count:     28,   Neg. LLF: 7528.614309752312\n",
      "Iteration:      4,   Func. Count:     37,   Neg. LLF: 7526.402756497846\n",
      "Iteration:      5,   Func. Count:     45,   Neg. LLF: 7522.406938873412\n",
      "Iteration:      6,   Func. Count:     53,   Neg. LLF: 7517.328624491105\n",
      "Iteration:      7,   Func. Count:     61,   Neg. LLF: 7515.31176444776\n",
      "Iteration:      8,   Func. Count:     69,   Neg. LLF: 7511.731824085002\n",
      "Iteration:      9,   Func. Count:     77,   Neg. LLF: 7511.204344875621\n",
      "Iteration:     10,   Func. Count:     84,   Neg. LLF: 7511.159719061984\n",
      "Iteration:     11,   Func. Count:     91,   Neg. LLF: 7511.099171368227\n",
      "Iteration:     12,   Func. Count:     98,   Neg. LLF: 7511.0979602586585\n",
      "Iteration:     13,   Func. Count:    105,   Neg. LLF: 7511.097801900933\n",
      "Iteration:     14,   Func. Count:    112,   Neg. LLF: 7511.097799482188\n",
      "Optimization terminated successfully.    (Exit mode 0)\n",
      "            Current function value: 7511.097799482184\n",
      "            Iterations: 14\n",
      "            Function evaluations: 112\n",
      "            Gradient evaluations: 14\n"
     ]
    },
    {
     "name": "stderr",
     "output_type": "stream",
     "text": [
      "C:\\Users\\jkf88\\Anaconda3\\lib\\site-packages\\arch\\__future__\\_utility.py:21: FutureWarning: \n",
      "The default for reindex is True. After September 2021 this will change to\n",
      "False. Set reindex to True or False to silence this message. Alternatively,\n",
      "you can use the import comment\n",
      "\n",
      "from arch.__future__ import reindexing\n",
      "\n",
      "to globally set reindex to True and silence this warning.\n",
      "\n",
      "  FutureWarning,\n"
     ]
    },
    {
     "name": "stdout",
     "output_type": "stream",
     "text": [
      "Iteration:      1,   Func. Count:      7,   Neg. LLF: 7548.428709437389\n",
      "Iteration:      2,   Func. Count:     19,   Neg. LLF: 7536.028652613328\n",
      "Iteration:      3,   Func. Count:     28,   Neg. LLF: 7528.614309752312\n",
      "Iteration:      4,   Func. Count:     37,   Neg. LLF: 7526.402756497846\n",
      "Iteration:      5,   Func. Count:     45,   Neg. LLF: 7522.406938873412\n",
      "Iteration:      6,   Func. Count:     53,   Neg. LLF: 7517.328624491105\n",
      "Iteration:      7,   Func. Count:     61,   Neg. LLF: 7515.31176444776\n",
      "Iteration:      8,   Func. Count:     69,   Neg. LLF: 7511.731824085002\n",
      "Iteration:      9,   Func. Count:     77,   Neg. LLF: 7511.204344875621\n",
      "Iteration:     10,   Func. Count:     84,   Neg. LLF: 7511.159719061984\n",
      "Iteration:     11,   Func. Count:     91,   Neg. LLF: 7511.099171368227\n",
      "Iteration:     12,   Func. Count:     98,   Neg. LLF: 7511.0979602586585\n",
      "Iteration:     13,   Func. Count:    105,   Neg. LLF: 7511.097801900933\n",
      "Iteration:     14,   Func. Count:    112,   Neg. LLF: 7511.097799482188\n",
      "Optimization terminated successfully.    (Exit mode 0)\n",
      "            Current function value: 7511.097799482184\n",
      "            Iterations: 14\n",
      "            Function evaluations: 112\n",
      "            Gradient evaluations: 14\n"
     ]
    },
    {
     "name": "stderr",
     "output_type": "stream",
     "text": [
      "C:\\Users\\jkf88\\Anaconda3\\lib\\site-packages\\arch\\__future__\\_utility.py:21: FutureWarning: \n",
      "The default for reindex is True. After September 2021 this will change to\n",
      "False. Set reindex to True or False to silence this message. Alternatively,\n",
      "you can use the import comment\n",
      "\n",
      "from arch.__future__ import reindexing\n",
      "\n",
      "to globally set reindex to True and silence this warning.\n",
      "\n",
      "  FutureWarning,\n"
     ]
    },
    {
     "name": "stdout",
     "output_type": "stream",
     "text": [
      "Iteration:      1,   Func. Count:      7,   Neg. LLF: 7548.428709437389\n",
      "Iteration:      2,   Func. Count:     19,   Neg. LLF: 7536.028652613328\n",
      "Iteration:      3,   Func. Count:     28,   Neg. LLF: 7528.614309752312\n",
      "Iteration:      4,   Func. Count:     37,   Neg. LLF: 7526.402756497846\n",
      "Iteration:      5,   Func. Count:     45,   Neg. LLF: 7522.406938873412\n",
      "Iteration:      6,   Func. Count:     53,   Neg. LLF: 7517.328624491105\n",
      "Iteration:      7,   Func. Count:     61,   Neg. LLF: 7515.31176444776\n",
      "Iteration:      8,   Func. Count:     69,   Neg. LLF: 7511.731824085002\n",
      "Iteration:      9,   Func. Count:     77,   Neg. LLF: 7511.204344875621\n",
      "Iteration:     10,   Func. Count:     84,   Neg. LLF: 7511.159719061984\n",
      "Iteration:     11,   Func. Count:     91,   Neg. LLF: 7511.099171368227\n",
      "Iteration:     12,   Func. Count:     98,   Neg. LLF: 7511.0979602586585\n",
      "Iteration:     13,   Func. Count:    105,   Neg. LLF: 7511.097801900933\n",
      "Iteration:     14,   Func. Count:    112,   Neg. LLF: 7511.097799482188\n",
      "Optimization terminated successfully.    (Exit mode 0)\n",
      "            Current function value: 7511.097799482184\n",
      "            Iterations: 14\n",
      "            Function evaluations: 112\n",
      "            Gradient evaluations: 14\n"
     ]
    },
    {
     "name": "stderr",
     "output_type": "stream",
     "text": [
      "C:\\Users\\jkf88\\Anaconda3\\lib\\site-packages\\arch\\__future__\\_utility.py:21: FutureWarning: \n",
      "The default for reindex is True. After September 2021 this will change to\n",
      "False. Set reindex to True or False to silence this message. Alternatively,\n",
      "you can use the import comment\n",
      "\n",
      "from arch.__future__ import reindexing\n",
      "\n",
      "to globally set reindex to True and silence this warning.\n",
      "\n",
      "  FutureWarning,\n"
     ]
    },
    {
     "name": "stdout",
     "output_type": "stream",
     "text": [
      "Iteration:      1,   Func. Count:      7,   Neg. LLF: 7548.428709437389\n",
      "Iteration:      2,   Func. Count:     19,   Neg. LLF: 7536.028652613328\n",
      "Iteration:      3,   Func. Count:     28,   Neg. LLF: 7528.614309752312\n",
      "Iteration:      4,   Func. Count:     37,   Neg. LLF: 7526.402756497846\n",
      "Iteration:      5,   Func. Count:     45,   Neg. LLF: 7522.406938873412\n",
      "Iteration:      6,   Func. Count:     53,   Neg. LLF: 7517.328624491105\n",
      "Iteration:      7,   Func. Count:     61,   Neg. LLF: 7515.31176444776\n",
      "Iteration:      8,   Func. Count:     69,   Neg. LLF: 7511.731824085002\n",
      "Iteration:      9,   Func. Count:     77,   Neg. LLF: 7511.204344875621\n",
      "Iteration:     10,   Func. Count:     84,   Neg. LLF: 7511.159719061984\n",
      "Iteration:     11,   Func. Count:     91,   Neg. LLF: 7511.099171368227\n",
      "Iteration:     12,   Func. Count:     98,   Neg. LLF: 7511.0979602586585\n",
      "Iteration:     13,   Func. Count:    105,   Neg. LLF: 7511.097801900933\n",
      "Iteration:     14,   Func. Count:    112,   Neg. LLF: 7511.097799482188\n",
      "Optimization terminated successfully.    (Exit mode 0)\n",
      "            Current function value: 7511.097799482184\n",
      "            Iterations: 14\n",
      "            Function evaluations: 112\n",
      "            Gradient evaluations: 14\n"
     ]
    },
    {
     "name": "stderr",
     "output_type": "stream",
     "text": [
      "C:\\Users\\jkf88\\Anaconda3\\lib\\site-packages\\arch\\__future__\\_utility.py:21: FutureWarning: \n",
      "The default for reindex is True. After September 2021 this will change to\n",
      "False. Set reindex to True or False to silence this message. Alternatively,\n",
      "you can use the import comment\n",
      "\n",
      "from arch.__future__ import reindexing\n",
      "\n",
      "to globally set reindex to True and silence this warning.\n",
      "\n",
      "  FutureWarning,\n"
     ]
    },
    {
     "name": "stdout",
     "output_type": "stream",
     "text": [
      "Iteration:      1,   Func. Count:      7,   Neg. LLF: 7548.428709437389\n",
      "Iteration:      2,   Func. Count:     19,   Neg. LLF: 7536.028652613328\n",
      "Iteration:      3,   Func. Count:     28,   Neg. LLF: 7528.614309752312\n",
      "Iteration:      4,   Func. Count:     37,   Neg. LLF: 7526.402756497846\n",
      "Iteration:      5,   Func. Count:     45,   Neg. LLF: 7522.406938873412\n",
      "Iteration:      6,   Func. Count:     53,   Neg. LLF: 7517.328624491105\n",
      "Iteration:      7,   Func. Count:     61,   Neg. LLF: 7515.31176444776\n",
      "Iteration:      8,   Func. Count:     69,   Neg. LLF: 7511.731824085002\n",
      "Iteration:      9,   Func. Count:     77,   Neg. LLF: 7511.204344875621\n",
      "Iteration:     10,   Func. Count:     84,   Neg. LLF: 7511.159719061984\n",
      "Iteration:     11,   Func. Count:     91,   Neg. LLF: 7511.099171368227\n",
      "Iteration:     12,   Func. Count:     98,   Neg. LLF: 7511.0979602586585\n",
      "Iteration:     13,   Func. Count:    105,   Neg. LLF: 7511.097801900933\n",
      "Iteration:     14,   Func. Count:    112,   Neg. LLF: 7511.097799482188\n",
      "Optimization terminated successfully.    (Exit mode 0)\n",
      "            Current function value: 7511.097799482184\n",
      "            Iterations: 14\n",
      "            Function evaluations: 112\n",
      "            Gradient evaluations: 14\n"
     ]
    },
    {
     "name": "stderr",
     "output_type": "stream",
     "text": [
      "C:\\Users\\jkf88\\Anaconda3\\lib\\site-packages\\arch\\__future__\\_utility.py:21: FutureWarning: \n",
      "The default for reindex is True. After September 2021 this will change to\n",
      "False. Set reindex to True or False to silence this message. Alternatively,\n",
      "you can use the import comment\n",
      "\n",
      "from arch.__future__ import reindexing\n",
      "\n",
      "to globally set reindex to True and silence this warning.\n",
      "\n",
      "  FutureWarning,\n"
     ]
    },
    {
     "name": "stdout",
     "output_type": "stream",
     "text": [
      "Iteration:      1,   Func. Count:      7,   Neg. LLF: 7548.428709437389\n",
      "Iteration:      2,   Func. Count:     19,   Neg. LLF: 7536.028652613328\n",
      "Iteration:      3,   Func. Count:     28,   Neg. LLF: 7528.614309752312\n",
      "Iteration:      4,   Func. Count:     37,   Neg. LLF: 7526.402756497846\n",
      "Iteration:      5,   Func. Count:     45,   Neg. LLF: 7522.406938873412\n",
      "Iteration:      6,   Func. Count:     53,   Neg. LLF: 7517.328624491105\n",
      "Iteration:      7,   Func. Count:     61,   Neg. LLF: 7515.31176444776\n",
      "Iteration:      8,   Func. Count:     69,   Neg. LLF: 7511.731824085002\n",
      "Iteration:      9,   Func. Count:     77,   Neg. LLF: 7511.204344875621\n",
      "Iteration:     10,   Func. Count:     84,   Neg. LLF: 7511.159719061984\n",
      "Iteration:     11,   Func. Count:     91,   Neg. LLF: 7511.099171368227\n",
      "Iteration:     12,   Func. Count:     98,   Neg. LLF: 7511.0979602586585\n",
      "Iteration:     13,   Func. Count:    105,   Neg. LLF: 7511.097801900933\n",
      "Iteration:     14,   Func. Count:    112,   Neg. LLF: 7511.097799482188\n",
      "Optimization terminated successfully.    (Exit mode 0)\n",
      "            Current function value: 7511.097799482184\n",
      "            Iterations: 14\n",
      "            Function evaluations: 112\n",
      "            Gradient evaluations: 14\n"
     ]
    },
    {
     "name": "stderr",
     "output_type": "stream",
     "text": [
      "C:\\Users\\jkf88\\Anaconda3\\lib\\site-packages\\arch\\__future__\\_utility.py:21: FutureWarning: \n",
      "The default for reindex is True. After September 2021 this will change to\n",
      "False. Set reindex to True or False to silence this message. Alternatively,\n",
      "you can use the import comment\n",
      "\n",
      "from arch.__future__ import reindexing\n",
      "\n",
      "to globally set reindex to True and silence this warning.\n",
      "\n",
      "  FutureWarning,\n"
     ]
    },
    {
     "name": "stdout",
     "output_type": "stream",
     "text": [
      "Iteration:      1,   Func. Count:      7,   Neg. LLF: 7548.428709437389\n",
      "Iteration:      2,   Func. Count:     19,   Neg. LLF: 7536.028652613328\n",
      "Iteration:      3,   Func. Count:     28,   Neg. LLF: 7528.614309752312\n",
      "Iteration:      4,   Func. Count:     37,   Neg. LLF: 7526.402756497846\n",
      "Iteration:      5,   Func. Count:     45,   Neg. LLF: 7522.406938873412\n",
      "Iteration:      6,   Func. Count:     53,   Neg. LLF: 7517.328624491105\n",
      "Iteration:      7,   Func. Count:     61,   Neg. LLF: 7515.31176444776\n",
      "Iteration:      8,   Func. Count:     69,   Neg. LLF: 7511.731824085002\n",
      "Iteration:      9,   Func. Count:     77,   Neg. LLF: 7511.204344875621\n",
      "Iteration:     10,   Func. Count:     84,   Neg. LLF: 7511.159719061984\n",
      "Iteration:     11,   Func. Count:     91,   Neg. LLF: 7511.099171368227\n",
      "Iteration:     12,   Func. Count:     98,   Neg. LLF: 7511.0979602586585\n",
      "Iteration:     13,   Func. Count:    105,   Neg. LLF: 7511.097801900933\n",
      "Iteration:     14,   Func. Count:    112,   Neg. LLF: 7511.097799482188\n",
      "Optimization terminated successfully.    (Exit mode 0)\n",
      "            Current function value: 7511.097799482184\n",
      "            Iterations: 14\n",
      "            Function evaluations: 112\n",
      "            Gradient evaluations: 14\n"
     ]
    },
    {
     "name": "stderr",
     "output_type": "stream",
     "text": [
      "C:\\Users\\jkf88\\Anaconda3\\lib\\site-packages\\arch\\__future__\\_utility.py:21: FutureWarning: \n",
      "The default for reindex is True. After September 2021 this will change to\n",
      "False. Set reindex to True or False to silence this message. Alternatively,\n",
      "you can use the import comment\n",
      "\n",
      "from arch.__future__ import reindexing\n",
      "\n",
      "to globally set reindex to True and silence this warning.\n",
      "\n",
      "  FutureWarning,\n"
     ]
    },
    {
     "name": "stdout",
     "output_type": "stream",
     "text": [
      "Iteration:      1,   Func. Count:      7,   Neg. LLF: 7548.428709437389\n",
      "Iteration:      2,   Func. Count:     19,   Neg. LLF: 7536.028652613328\n",
      "Iteration:      3,   Func. Count:     28,   Neg. LLF: 7528.614309752312\n",
      "Iteration:      4,   Func. Count:     37,   Neg. LLF: 7526.402756497846\n",
      "Iteration:      5,   Func. Count:     45,   Neg. LLF: 7522.406938873412\n",
      "Iteration:      6,   Func. Count:     53,   Neg. LLF: 7517.328624491105\n",
      "Iteration:      7,   Func. Count:     61,   Neg. LLF: 7515.31176444776\n",
      "Iteration:      8,   Func. Count:     69,   Neg. LLF: 7511.731824085002\n",
      "Iteration:      9,   Func. Count:     77,   Neg. LLF: 7511.204344875621\n",
      "Iteration:     10,   Func. Count:     84,   Neg. LLF: 7511.159719061984\n",
      "Iteration:     11,   Func. Count:     91,   Neg. LLF: 7511.099171368227\n",
      "Iteration:     12,   Func. Count:     98,   Neg. LLF: 7511.0979602586585\n",
      "Iteration:     13,   Func. Count:    105,   Neg. LLF: 7511.097801900933\n",
      "Iteration:     14,   Func. Count:    112,   Neg. LLF: 7511.097799482188\n",
      "Optimization terminated successfully.    (Exit mode 0)\n",
      "            Current function value: 7511.097799482184\n",
      "            Iterations: 14\n",
      "            Function evaluations: 112\n",
      "            Gradient evaluations: 14\n"
     ]
    },
    {
     "name": "stderr",
     "output_type": "stream",
     "text": [
      "C:\\Users\\jkf88\\Anaconda3\\lib\\site-packages\\arch\\__future__\\_utility.py:21: FutureWarning: \n",
      "The default for reindex is True. After September 2021 this will change to\n",
      "False. Set reindex to True or False to silence this message. Alternatively,\n",
      "you can use the import comment\n",
      "\n",
      "from arch.__future__ import reindexing\n",
      "\n",
      "to globally set reindex to True and silence this warning.\n",
      "\n",
      "  FutureWarning,\n"
     ]
    },
    {
     "name": "stdout",
     "output_type": "stream",
     "text": [
      "Iteration:      1,   Func. Count:      7,   Neg. LLF: 7548.428709437389\n",
      "Iteration:      2,   Func. Count:     19,   Neg. LLF: 7536.028652613328\n",
      "Iteration:      3,   Func. Count:     28,   Neg. LLF: 7528.614309752312\n",
      "Iteration:      4,   Func. Count:     37,   Neg. LLF: 7526.402756497846\n",
      "Iteration:      5,   Func. Count:     45,   Neg. LLF: 7522.406938873412\n",
      "Iteration:      6,   Func. Count:     53,   Neg. LLF: 7517.328624491105\n",
      "Iteration:      7,   Func. Count:     61,   Neg. LLF: 7515.31176444776\n",
      "Iteration:      8,   Func. Count:     69,   Neg. LLF: 7511.731824085002\n",
      "Iteration:      9,   Func. Count:     77,   Neg. LLF: 7511.204344875621\n",
      "Iteration:     10,   Func. Count:     84,   Neg. LLF: 7511.159719061984\n",
      "Iteration:     11,   Func. Count:     91,   Neg. LLF: 7511.099171368227\n",
      "Iteration:     12,   Func. Count:     98,   Neg. LLF: 7511.0979602586585\n",
      "Iteration:     13,   Func. Count:    105,   Neg. LLF: 7511.097801900933\n",
      "Iteration:     14,   Func. Count:    112,   Neg. LLF: 7511.097799482188\n",
      "Optimization terminated successfully.    (Exit mode 0)\n",
      "            Current function value: 7511.097799482184\n",
      "            Iterations: 14\n",
      "            Function evaluations: 112\n",
      "            Gradient evaluations: 14\n"
     ]
    },
    {
     "name": "stderr",
     "output_type": "stream",
     "text": [
      "C:\\Users\\jkf88\\Anaconda3\\lib\\site-packages\\arch\\__future__\\_utility.py:21: FutureWarning: \n",
      "The default for reindex is True. After September 2021 this will change to\n",
      "False. Set reindex to True or False to silence this message. Alternatively,\n",
      "you can use the import comment\n",
      "\n",
      "from arch.__future__ import reindexing\n",
      "\n",
      "to globally set reindex to True and silence this warning.\n",
      "\n",
      "  FutureWarning,\n"
     ]
    },
    {
     "name": "stdout",
     "output_type": "stream",
     "text": [
      "Iteration:      1,   Func. Count:      7,   Neg. LLF: 7548.428709437389\n",
      "Iteration:      2,   Func. Count:     19,   Neg. LLF: 7536.028652613328\n",
      "Iteration:      3,   Func. Count:     28,   Neg. LLF: 7528.614309752312\n",
      "Iteration:      4,   Func. Count:     37,   Neg. LLF: 7526.402756497846\n",
      "Iteration:      5,   Func. Count:     45,   Neg. LLF: 7522.406938873412\n",
      "Iteration:      6,   Func. Count:     53,   Neg. LLF: 7517.328624491105\n",
      "Iteration:      7,   Func. Count:     61,   Neg. LLF: 7515.31176444776\n",
      "Iteration:      8,   Func. Count:     69,   Neg. LLF: 7511.731824085002\n",
      "Iteration:      9,   Func. Count:     77,   Neg. LLF: 7511.204344875621\n",
      "Iteration:     10,   Func. Count:     84,   Neg. LLF: 7511.159719061984\n",
      "Iteration:     11,   Func. Count:     91,   Neg. LLF: 7511.099171368227\n",
      "Iteration:     12,   Func. Count:     98,   Neg. LLF: 7511.0979602586585\n",
      "Iteration:     13,   Func. Count:    105,   Neg. LLF: 7511.097801900933\n",
      "Iteration:     14,   Func. Count:    112,   Neg. LLF: 7511.097799482188\n",
      "Optimization terminated successfully.    (Exit mode 0)\n",
      "            Current function value: 7511.097799482184\n",
      "            Iterations: 14\n",
      "            Function evaluations: 112\n",
      "            Gradient evaluations: 14\n"
     ]
    },
    {
     "name": "stderr",
     "output_type": "stream",
     "text": [
      "C:\\Users\\jkf88\\Anaconda3\\lib\\site-packages\\arch\\__future__\\_utility.py:21: FutureWarning: \n",
      "The default for reindex is True. After September 2021 this will change to\n",
      "False. Set reindex to True or False to silence this message. Alternatively,\n",
      "you can use the import comment\n",
      "\n",
      "from arch.__future__ import reindexing\n",
      "\n",
      "to globally set reindex to True and silence this warning.\n",
      "\n",
      "  FutureWarning,\n"
     ]
    },
    {
     "name": "stdout",
     "output_type": "stream",
     "text": [
      "Iteration:      1,   Func. Count:      7,   Neg. LLF: 7548.428709437389\n",
      "Iteration:      2,   Func. Count:     19,   Neg. LLF: 7536.028652613328\n",
      "Iteration:      3,   Func. Count:     28,   Neg. LLF: 7528.614309752312\n",
      "Iteration:      4,   Func. Count:     37,   Neg. LLF: 7526.402756497846\n",
      "Iteration:      5,   Func. Count:     45,   Neg. LLF: 7522.406938873412\n",
      "Iteration:      6,   Func. Count:     53,   Neg. LLF: 7517.328624491105\n",
      "Iteration:      7,   Func. Count:     61,   Neg. LLF: 7515.31176444776\n",
      "Iteration:      8,   Func. Count:     69,   Neg. LLF: 7511.731824085002\n",
      "Iteration:      9,   Func. Count:     77,   Neg. LLF: 7511.204344875621\n",
      "Iteration:     10,   Func. Count:     84,   Neg. LLF: 7511.159719061984\n",
      "Iteration:     11,   Func. Count:     91,   Neg. LLF: 7511.099171368227\n",
      "Iteration:     12,   Func. Count:     98,   Neg. LLF: 7511.0979602586585\n",
      "Iteration:     13,   Func. Count:    105,   Neg. LLF: 7511.097801900933\n",
      "Iteration:     14,   Func. Count:    112,   Neg. LLF: 7511.097799482188\n",
      "Optimization terminated successfully.    (Exit mode 0)\n",
      "            Current function value: 7511.097799482184\n",
      "            Iterations: 14\n",
      "            Function evaluations: 112\n",
      "            Gradient evaluations: 14\n"
     ]
    },
    {
     "name": "stderr",
     "output_type": "stream",
     "text": [
      "C:\\Users\\jkf88\\Anaconda3\\lib\\site-packages\\arch\\__future__\\_utility.py:21: FutureWarning: \n",
      "The default for reindex is True. After September 2021 this will change to\n",
      "False. Set reindex to True or False to silence this message. Alternatively,\n",
      "you can use the import comment\n",
      "\n",
      "from arch.__future__ import reindexing\n",
      "\n",
      "to globally set reindex to True and silence this warning.\n",
      "\n",
      "  FutureWarning,\n"
     ]
    },
    {
     "name": "stdout",
     "output_type": "stream",
     "text": [
      "Iteration:      1,   Func. Count:      7,   Neg. LLF: 7548.428709437389\n",
      "Iteration:      2,   Func. Count:     19,   Neg. LLF: 7536.028652613328\n",
      "Iteration:      3,   Func. Count:     28,   Neg. LLF: 7528.614309752312\n",
      "Iteration:      4,   Func. Count:     37,   Neg. LLF: 7526.402756497846\n",
      "Iteration:      5,   Func. Count:     45,   Neg. LLF: 7522.406938873412\n",
      "Iteration:      6,   Func. Count:     53,   Neg. LLF: 7517.328624491105\n",
      "Iteration:      7,   Func. Count:     61,   Neg. LLF: 7515.31176444776\n",
      "Iteration:      8,   Func. Count:     69,   Neg. LLF: 7511.731824085002\n",
      "Iteration:      9,   Func. Count:     77,   Neg. LLF: 7511.204344875621\n",
      "Iteration:     10,   Func. Count:     84,   Neg. LLF: 7511.159719061984\n",
      "Iteration:     11,   Func. Count:     91,   Neg. LLF: 7511.099171368227\n",
      "Iteration:     12,   Func. Count:     98,   Neg. LLF: 7511.0979602586585\n",
      "Iteration:     13,   Func. Count:    105,   Neg. LLF: 7511.097801900933\n",
      "Iteration:     14,   Func. Count:    112,   Neg. LLF: 7511.097799482188\n",
      "Optimization terminated successfully.    (Exit mode 0)\n",
      "            Current function value: 7511.097799482184\n",
      "            Iterations: 14\n",
      "            Function evaluations: 112\n",
      "            Gradient evaluations: 14\n"
     ]
    },
    {
     "name": "stderr",
     "output_type": "stream",
     "text": [
      "C:\\Users\\jkf88\\Anaconda3\\lib\\site-packages\\arch\\__future__\\_utility.py:21: FutureWarning: \n",
      "The default for reindex is True. After September 2021 this will change to\n",
      "False. Set reindex to True or False to silence this message. Alternatively,\n",
      "you can use the import comment\n",
      "\n",
      "from arch.__future__ import reindexing\n",
      "\n",
      "to globally set reindex to True and silence this warning.\n",
      "\n",
      "  FutureWarning,\n"
     ]
    },
    {
     "name": "stdout",
     "output_type": "stream",
     "text": [
      "Iteration:      1,   Func. Count:      7,   Neg. LLF: 7548.428709437389\n",
      "Iteration:      2,   Func. Count:     19,   Neg. LLF: 7536.028652613328\n",
      "Iteration:      3,   Func. Count:     28,   Neg. LLF: 7528.614309752312\n",
      "Iteration:      4,   Func. Count:     37,   Neg. LLF: 7526.402756497846\n",
      "Iteration:      5,   Func. Count:     45,   Neg. LLF: 7522.406938873412\n",
      "Iteration:      6,   Func. Count:     53,   Neg. LLF: 7517.328624491105\n",
      "Iteration:      7,   Func. Count:     61,   Neg. LLF: 7515.31176444776\n",
      "Iteration:      8,   Func. Count:     69,   Neg. LLF: 7511.731824085002\n",
      "Iteration:      9,   Func. Count:     77,   Neg. LLF: 7511.204344875621\n",
      "Iteration:     10,   Func. Count:     84,   Neg. LLF: 7511.159719061984\n",
      "Iteration:     11,   Func. Count:     91,   Neg. LLF: 7511.099171368227\n",
      "Iteration:     12,   Func. Count:     98,   Neg. LLF: 7511.0979602586585\n",
      "Iteration:     13,   Func. Count:    105,   Neg. LLF: 7511.097801900933\n",
      "Iteration:     14,   Func. Count:    112,   Neg. LLF: 7511.097799482188\n",
      "Optimization terminated successfully.    (Exit mode 0)\n",
      "            Current function value: 7511.097799482184\n",
      "            Iterations: 14\n",
      "            Function evaluations: 112\n",
      "            Gradient evaluations: 14\n"
     ]
    },
    {
     "name": "stderr",
     "output_type": "stream",
     "text": [
      "C:\\Users\\jkf88\\Anaconda3\\lib\\site-packages\\arch\\__future__\\_utility.py:21: FutureWarning: \n",
      "The default for reindex is True. After September 2021 this will change to\n",
      "False. Set reindex to True or False to silence this message. Alternatively,\n",
      "you can use the import comment\n",
      "\n",
      "from arch.__future__ import reindexing\n",
      "\n",
      "to globally set reindex to True and silence this warning.\n",
      "\n",
      "  FutureWarning,\n"
     ]
    },
    {
     "name": "stdout",
     "output_type": "stream",
     "text": [
      "Iteration:      1,   Func. Count:      7,   Neg. LLF: 7548.428709437389\n",
      "Iteration:      2,   Func. Count:     19,   Neg. LLF: 7536.028652613328\n",
      "Iteration:      3,   Func. Count:     28,   Neg. LLF: 7528.614309752312\n",
      "Iteration:      4,   Func. Count:     37,   Neg. LLF: 7526.402756497846\n",
      "Iteration:      5,   Func. Count:     45,   Neg. LLF: 7522.406938873412\n",
      "Iteration:      6,   Func. Count:     53,   Neg. LLF: 7517.328624491105\n",
      "Iteration:      7,   Func. Count:     61,   Neg. LLF: 7515.31176444776\n",
      "Iteration:      8,   Func. Count:     69,   Neg. LLF: 7511.731824085002\n",
      "Iteration:      9,   Func. Count:     77,   Neg. LLF: 7511.204344875621\n",
      "Iteration:     10,   Func. Count:     84,   Neg. LLF: 7511.159719061984\n",
      "Iteration:     11,   Func. Count:     91,   Neg. LLF: 7511.099171368227\n",
      "Iteration:     12,   Func. Count:     98,   Neg. LLF: 7511.0979602586585\n",
      "Iteration:     13,   Func. Count:    105,   Neg. LLF: 7511.097801900933\n",
      "Iteration:     14,   Func. Count:    112,   Neg. LLF: 7511.097799482188\n",
      "Optimization terminated successfully.    (Exit mode 0)\n",
      "            Current function value: 7511.097799482184\n",
      "            Iterations: 14\n",
      "            Function evaluations: 112\n",
      "            Gradient evaluations: 14\n"
     ]
    },
    {
     "name": "stderr",
     "output_type": "stream",
     "text": [
      "C:\\Users\\jkf88\\Anaconda3\\lib\\site-packages\\arch\\__future__\\_utility.py:21: FutureWarning: \n",
      "The default for reindex is True. After September 2021 this will change to\n",
      "False. Set reindex to True or False to silence this message. Alternatively,\n",
      "you can use the import comment\n",
      "\n",
      "from arch.__future__ import reindexing\n",
      "\n",
      "to globally set reindex to True and silence this warning.\n",
      "\n",
      "  FutureWarning,\n"
     ]
    },
    {
     "name": "stdout",
     "output_type": "stream",
     "text": [
      "Iteration:      1,   Func. Count:      7,   Neg. LLF: 7548.428709437389\n",
      "Iteration:      2,   Func. Count:     19,   Neg. LLF: 7536.028652613328\n",
      "Iteration:      3,   Func. Count:     28,   Neg. LLF: 7528.614309752312\n",
      "Iteration:      4,   Func. Count:     37,   Neg. LLF: 7526.402756497846\n",
      "Iteration:      5,   Func. Count:     45,   Neg. LLF: 7522.406938873412\n",
      "Iteration:      6,   Func. Count:     53,   Neg. LLF: 7517.328624491105\n",
      "Iteration:      7,   Func. Count:     61,   Neg. LLF: 7515.31176444776\n",
      "Iteration:      8,   Func. Count:     69,   Neg. LLF: 7511.731824085002\n",
      "Iteration:      9,   Func. Count:     77,   Neg. LLF: 7511.204344875621\n",
      "Iteration:     10,   Func. Count:     84,   Neg. LLF: 7511.159719061984\n",
      "Iteration:     11,   Func. Count:     91,   Neg. LLF: 7511.099171368227\n",
      "Iteration:     12,   Func. Count:     98,   Neg. LLF: 7511.0979602586585\n",
      "Iteration:     13,   Func. Count:    105,   Neg. LLF: 7511.097801900933\n",
      "Iteration:     14,   Func. Count:    112,   Neg. LLF: 7511.097799482188\n",
      "Optimization terminated successfully.    (Exit mode 0)\n",
      "            Current function value: 7511.097799482184\n",
      "            Iterations: 14\n",
      "            Function evaluations: 112\n",
      "            Gradient evaluations: 14\n"
     ]
    },
    {
     "name": "stderr",
     "output_type": "stream",
     "text": [
      "C:\\Users\\jkf88\\Anaconda3\\lib\\site-packages\\arch\\__future__\\_utility.py:21: FutureWarning: \n",
      "The default for reindex is True. After September 2021 this will change to\n",
      "False. Set reindex to True or False to silence this message. Alternatively,\n",
      "you can use the import comment\n",
      "\n",
      "from arch.__future__ import reindexing\n",
      "\n",
      "to globally set reindex to True and silence this warning.\n",
      "\n",
      "  FutureWarning,\n"
     ]
    },
    {
     "name": "stdout",
     "output_type": "stream",
     "text": [
      "Iteration:      1,   Func. Count:      7,   Neg. LLF: 7548.428709437389\n",
      "Iteration:      2,   Func. Count:     19,   Neg. LLF: 7536.028652613328\n",
      "Iteration:      3,   Func. Count:     28,   Neg. LLF: 7528.614309752312\n",
      "Iteration:      4,   Func. Count:     37,   Neg. LLF: 7526.402756497846\n",
      "Iteration:      5,   Func. Count:     45,   Neg. LLF: 7522.406938873412\n",
      "Iteration:      6,   Func. Count:     53,   Neg. LLF: 7517.328624491105\n",
      "Iteration:      7,   Func. Count:     61,   Neg. LLF: 7515.31176444776\n",
      "Iteration:      8,   Func. Count:     69,   Neg. LLF: 7511.731824085002\n",
      "Iteration:      9,   Func. Count:     77,   Neg. LLF: 7511.204344875621\n",
      "Iteration:     10,   Func. Count:     84,   Neg. LLF: 7511.159719061984\n",
      "Iteration:     11,   Func. Count:     91,   Neg. LLF: 7511.099171368227\n",
      "Iteration:     12,   Func. Count:     98,   Neg. LLF: 7511.0979602586585\n",
      "Iteration:     13,   Func. Count:    105,   Neg. LLF: 7511.097801900933\n",
      "Iteration:     14,   Func. Count:    112,   Neg. LLF: 7511.097799482188\n",
      "Optimization terminated successfully.    (Exit mode 0)\n",
      "            Current function value: 7511.097799482184\n",
      "            Iterations: 14\n",
      "            Function evaluations: 112\n",
      "            Gradient evaluations: 14\n"
     ]
    },
    {
     "name": "stderr",
     "output_type": "stream",
     "text": [
      "C:\\Users\\jkf88\\Anaconda3\\lib\\site-packages\\arch\\__future__\\_utility.py:21: FutureWarning: \n",
      "The default for reindex is True. After September 2021 this will change to\n",
      "False. Set reindex to True or False to silence this message. Alternatively,\n",
      "you can use the import comment\n",
      "\n",
      "from arch.__future__ import reindexing\n",
      "\n",
      "to globally set reindex to True and silence this warning.\n",
      "\n",
      "  FutureWarning,\n"
     ]
    },
    {
     "name": "stdout",
     "output_type": "stream",
     "text": [
      "Iteration:      1,   Func. Count:      7,   Neg. LLF: 7548.428709437389\n",
      "Iteration:      2,   Func. Count:     19,   Neg. LLF: 7536.028652613328\n",
      "Iteration:      3,   Func. Count:     28,   Neg. LLF: 7528.614309752312\n",
      "Iteration:      4,   Func. Count:     37,   Neg. LLF: 7526.402756497846\n",
      "Iteration:      5,   Func. Count:     45,   Neg. LLF: 7522.406938873412\n",
      "Iteration:      6,   Func. Count:     53,   Neg. LLF: 7517.328624491105\n",
      "Iteration:      7,   Func. Count:     61,   Neg. LLF: 7515.31176444776\n",
      "Iteration:      8,   Func. Count:     69,   Neg. LLF: 7511.731824085002\n",
      "Iteration:      9,   Func. Count:     77,   Neg. LLF: 7511.204344875621\n",
      "Iteration:     10,   Func. Count:     84,   Neg. LLF: 7511.159719061984\n",
      "Iteration:     11,   Func. Count:     91,   Neg. LLF: 7511.099171368227\n",
      "Iteration:     12,   Func. Count:     98,   Neg. LLF: 7511.0979602586585\n",
      "Iteration:     13,   Func. Count:    105,   Neg. LLF: 7511.097801900933\n",
      "Iteration:     14,   Func. Count:    112,   Neg. LLF: 7511.097799482188\n",
      "Optimization terminated successfully.    (Exit mode 0)\n",
      "            Current function value: 7511.097799482184\n",
      "            Iterations: 14\n",
      "            Function evaluations: 112\n",
      "            Gradient evaluations: 14\n"
     ]
    },
    {
     "name": "stderr",
     "output_type": "stream",
     "text": [
      "C:\\Users\\jkf88\\Anaconda3\\lib\\site-packages\\arch\\__future__\\_utility.py:21: FutureWarning: \n",
      "The default for reindex is True. After September 2021 this will change to\n",
      "False. Set reindex to True or False to silence this message. Alternatively,\n",
      "you can use the import comment\n",
      "\n",
      "from arch.__future__ import reindexing\n",
      "\n",
      "to globally set reindex to True and silence this warning.\n",
      "\n",
      "  FutureWarning,\n"
     ]
    },
    {
     "name": "stdout",
     "output_type": "stream",
     "text": [
      "Iteration:      1,   Func. Count:      7,   Neg. LLF: 7548.428709437389\n",
      "Iteration:      2,   Func. Count:     19,   Neg. LLF: 7536.028652613328\n",
      "Iteration:      3,   Func. Count:     28,   Neg. LLF: 7528.614309752312\n",
      "Iteration:      4,   Func. Count:     37,   Neg. LLF: 7526.402756497846\n",
      "Iteration:      5,   Func. Count:     45,   Neg. LLF: 7522.406938873412\n",
      "Iteration:      6,   Func. Count:     53,   Neg. LLF: 7517.328624491105\n",
      "Iteration:      7,   Func. Count:     61,   Neg. LLF: 7515.31176444776\n",
      "Iteration:      8,   Func. Count:     69,   Neg. LLF: 7511.731824085002\n",
      "Iteration:      9,   Func. Count:     77,   Neg. LLF: 7511.204344875621\n",
      "Iteration:     10,   Func. Count:     84,   Neg. LLF: 7511.159719061984\n",
      "Iteration:     11,   Func. Count:     91,   Neg. LLF: 7511.099171368227\n",
      "Iteration:     12,   Func. Count:     98,   Neg. LLF: 7511.0979602586585\n",
      "Iteration:     13,   Func. Count:    105,   Neg. LLF: 7511.097801900933\n",
      "Iteration:     14,   Func. Count:    112,   Neg. LLF: 7511.097799482188\n",
      "Optimization terminated successfully.    (Exit mode 0)\n",
      "            Current function value: 7511.097799482184\n",
      "            Iterations: 14\n",
      "            Function evaluations: 112\n",
      "            Gradient evaluations: 14\n"
     ]
    },
    {
     "name": "stderr",
     "output_type": "stream",
     "text": [
      "C:\\Users\\jkf88\\Anaconda3\\lib\\site-packages\\arch\\__future__\\_utility.py:21: FutureWarning: \n",
      "The default for reindex is True. After September 2021 this will change to\n",
      "False. Set reindex to True or False to silence this message. Alternatively,\n",
      "you can use the import comment\n",
      "\n",
      "from arch.__future__ import reindexing\n",
      "\n",
      "to globally set reindex to True and silence this warning.\n",
      "\n",
      "  FutureWarning,\n"
     ]
    },
    {
     "name": "stdout",
     "output_type": "stream",
     "text": [
      "Iteration:      1,   Func. Count:      7,   Neg. LLF: 7548.428709437389\n",
      "Iteration:      2,   Func. Count:     19,   Neg. LLF: 7536.028652613328\n",
      "Iteration:      3,   Func. Count:     28,   Neg. LLF: 7528.614309752312\n",
      "Iteration:      4,   Func. Count:     37,   Neg. LLF: 7526.402756497846\n",
      "Iteration:      5,   Func. Count:     45,   Neg. LLF: 7522.406938873412\n",
      "Iteration:      6,   Func. Count:     53,   Neg. LLF: 7517.328624491105\n",
      "Iteration:      7,   Func. Count:     61,   Neg. LLF: 7515.31176444776\n",
      "Iteration:      8,   Func. Count:     69,   Neg. LLF: 7511.731824085002\n",
      "Iteration:      9,   Func. Count:     77,   Neg. LLF: 7511.204344875621\n",
      "Iteration:     10,   Func. Count:     84,   Neg. LLF: 7511.159719061984\n",
      "Iteration:     11,   Func. Count:     91,   Neg. LLF: 7511.099171368227\n",
      "Iteration:     12,   Func. Count:     98,   Neg. LLF: 7511.0979602586585\n",
      "Iteration:     13,   Func. Count:    105,   Neg. LLF: 7511.097801900933\n",
      "Iteration:     14,   Func. Count:    112,   Neg. LLF: 7511.097799482188\n",
      "Optimization terminated successfully.    (Exit mode 0)\n",
      "            Current function value: 7511.097799482184\n",
      "            Iterations: 14\n",
      "            Function evaluations: 112\n",
      "            Gradient evaluations: 14\n"
     ]
    },
    {
     "name": "stderr",
     "output_type": "stream",
     "text": [
      "C:\\Users\\jkf88\\Anaconda3\\lib\\site-packages\\arch\\__future__\\_utility.py:21: FutureWarning: \n",
      "The default for reindex is True. After September 2021 this will change to\n",
      "False. Set reindex to True or False to silence this message. Alternatively,\n",
      "you can use the import comment\n",
      "\n",
      "from arch.__future__ import reindexing\n",
      "\n",
      "to globally set reindex to True and silence this warning.\n",
      "\n",
      "  FutureWarning,\n"
     ]
    },
    {
     "name": "stdout",
     "output_type": "stream",
     "text": [
      "Iteration:      1,   Func. Count:      7,   Neg. LLF: 7548.428709437389\n",
      "Iteration:      2,   Func. Count:     19,   Neg. LLF: 7536.028652613328\n",
      "Iteration:      3,   Func. Count:     28,   Neg. LLF: 7528.614309752312\n",
      "Iteration:      4,   Func. Count:     37,   Neg. LLF: 7526.402756497846\n",
      "Iteration:      5,   Func. Count:     45,   Neg. LLF: 7522.406938873412\n",
      "Iteration:      6,   Func. Count:     53,   Neg. LLF: 7517.328624491105\n",
      "Iteration:      7,   Func. Count:     61,   Neg. LLF: 7515.31176444776\n",
      "Iteration:      8,   Func. Count:     69,   Neg. LLF: 7511.731824085002\n",
      "Iteration:      9,   Func. Count:     77,   Neg. LLF: 7511.204344875621\n",
      "Iteration:     10,   Func. Count:     84,   Neg. LLF: 7511.159719061984\n",
      "Iteration:     11,   Func. Count:     91,   Neg. LLF: 7511.099171368227\n",
      "Iteration:     12,   Func. Count:     98,   Neg. LLF: 7511.0979602586585\n",
      "Iteration:     13,   Func. Count:    105,   Neg. LLF: 7511.097801900933\n",
      "Iteration:     14,   Func. Count:    112,   Neg. LLF: 7511.097799482188\n",
      "Optimization terminated successfully.    (Exit mode 0)\n",
      "            Current function value: 7511.097799482184\n",
      "            Iterations: 14\n",
      "            Function evaluations: 112\n",
      "            Gradient evaluations: 14\n"
     ]
    },
    {
     "name": "stderr",
     "output_type": "stream",
     "text": [
      "C:\\Users\\jkf88\\Anaconda3\\lib\\site-packages\\arch\\__future__\\_utility.py:21: FutureWarning: \n",
      "The default for reindex is True. After September 2021 this will change to\n",
      "False. Set reindex to True or False to silence this message. Alternatively,\n",
      "you can use the import comment\n",
      "\n",
      "from arch.__future__ import reindexing\n",
      "\n",
      "to globally set reindex to True and silence this warning.\n",
      "\n",
      "  FutureWarning,\n"
     ]
    },
    {
     "name": "stdout",
     "output_type": "stream",
     "text": [
      "Iteration:      1,   Func. Count:      7,   Neg. LLF: 7548.428709437389\n",
      "Iteration:      2,   Func. Count:     19,   Neg. LLF: 7536.028652613328\n",
      "Iteration:      3,   Func. Count:     28,   Neg. LLF: 7528.614309752312\n",
      "Iteration:      4,   Func. Count:     37,   Neg. LLF: 7526.402756497846\n",
      "Iteration:      5,   Func. Count:     45,   Neg. LLF: 7522.406938873412\n",
      "Iteration:      6,   Func. Count:     53,   Neg. LLF: 7517.328624491105\n",
      "Iteration:      7,   Func. Count:     61,   Neg. LLF: 7515.31176444776\n",
      "Iteration:      8,   Func. Count:     69,   Neg. LLF: 7511.731824085002\n",
      "Iteration:      9,   Func. Count:     77,   Neg. LLF: 7511.204344875621\n",
      "Iteration:     10,   Func. Count:     84,   Neg. LLF: 7511.159719061984\n",
      "Iteration:     11,   Func. Count:     91,   Neg. LLF: 7511.099171368227\n",
      "Iteration:     12,   Func. Count:     98,   Neg. LLF: 7511.0979602586585\n",
      "Iteration:     13,   Func. Count:    105,   Neg. LLF: 7511.097801900933\n",
      "Iteration:     14,   Func. Count:    112,   Neg. LLF: 7511.097799482188\n",
      "Optimization terminated successfully.    (Exit mode 0)\n",
      "            Current function value: 7511.097799482184\n",
      "            Iterations: 14\n",
      "            Function evaluations: 112\n",
      "            Gradient evaluations: 14\n"
     ]
    },
    {
     "name": "stderr",
     "output_type": "stream",
     "text": [
      "C:\\Users\\jkf88\\Anaconda3\\lib\\site-packages\\arch\\__future__\\_utility.py:21: FutureWarning: \n",
      "The default for reindex is True. After September 2021 this will change to\n",
      "False. Set reindex to True or False to silence this message. Alternatively,\n",
      "you can use the import comment\n",
      "\n",
      "from arch.__future__ import reindexing\n",
      "\n",
      "to globally set reindex to True and silence this warning.\n",
      "\n",
      "  FutureWarning,\n"
     ]
    },
    {
     "name": "stdout",
     "output_type": "stream",
     "text": [
      "Iteration:      1,   Func. Count:      7,   Neg. LLF: 7548.428709437389\n",
      "Iteration:      2,   Func. Count:     19,   Neg. LLF: 7536.028652613328\n",
      "Iteration:      3,   Func. Count:     28,   Neg. LLF: 7528.614309752312\n",
      "Iteration:      4,   Func. Count:     37,   Neg. LLF: 7526.402756497846\n",
      "Iteration:      5,   Func. Count:     45,   Neg. LLF: 7522.406938873412\n",
      "Iteration:      6,   Func. Count:     53,   Neg. LLF: 7517.328624491105\n",
      "Iteration:      7,   Func. Count:     61,   Neg. LLF: 7515.31176444776\n",
      "Iteration:      8,   Func. Count:     69,   Neg. LLF: 7511.731824085002\n",
      "Iteration:      9,   Func. Count:     77,   Neg. LLF: 7511.204344875621\n",
      "Iteration:     10,   Func. Count:     84,   Neg. LLF: 7511.159719061984\n",
      "Iteration:     11,   Func. Count:     91,   Neg. LLF: 7511.099171368227\n",
      "Iteration:     12,   Func. Count:     98,   Neg. LLF: 7511.0979602586585\n",
      "Iteration:     13,   Func. Count:    105,   Neg. LLF: 7511.097801900933\n",
      "Iteration:     14,   Func. Count:    112,   Neg. LLF: 7511.097799482188\n",
      "Optimization terminated successfully.    (Exit mode 0)\n",
      "            Current function value: 7511.097799482184\n",
      "            Iterations: 14\n",
      "            Function evaluations: 112\n",
      "            Gradient evaluations: 14\n"
     ]
    },
    {
     "name": "stderr",
     "output_type": "stream",
     "text": [
      "C:\\Users\\jkf88\\Anaconda3\\lib\\site-packages\\arch\\__future__\\_utility.py:21: FutureWarning: \n",
      "The default for reindex is True. After September 2021 this will change to\n",
      "False. Set reindex to True or False to silence this message. Alternatively,\n",
      "you can use the import comment\n",
      "\n",
      "from arch.__future__ import reindexing\n",
      "\n",
      "to globally set reindex to True and silence this warning.\n",
      "\n",
      "  FutureWarning,\n"
     ]
    },
    {
     "name": "stdout",
     "output_type": "stream",
     "text": [
      "Iteration:      1,   Func. Count:      7,   Neg. LLF: 7548.428709437389\n",
      "Iteration:      2,   Func. Count:     19,   Neg. LLF: 7536.028652613328\n",
      "Iteration:      3,   Func. Count:     28,   Neg. LLF: 7528.614309752312\n",
      "Iteration:      4,   Func. Count:     37,   Neg. LLF: 7526.402756497846\n",
      "Iteration:      5,   Func. Count:     45,   Neg. LLF: 7522.406938873412\n",
      "Iteration:      6,   Func. Count:     53,   Neg. LLF: 7517.328624491105\n",
      "Iteration:      7,   Func. Count:     61,   Neg. LLF: 7515.31176444776\n",
      "Iteration:      8,   Func. Count:     69,   Neg. LLF: 7511.731824085002\n",
      "Iteration:      9,   Func. Count:     77,   Neg. LLF: 7511.204344875621\n",
      "Iteration:     10,   Func. Count:     84,   Neg. LLF: 7511.159719061984\n",
      "Iteration:     11,   Func. Count:     91,   Neg. LLF: 7511.099171368227\n",
      "Iteration:     12,   Func. Count:     98,   Neg. LLF: 7511.0979602586585\n",
      "Iteration:     13,   Func. Count:    105,   Neg. LLF: 7511.097801900933\n",
      "Iteration:     14,   Func. Count:    112,   Neg. LLF: 7511.097799482188\n",
      "Optimization terminated successfully.    (Exit mode 0)\n",
      "            Current function value: 7511.097799482184\n",
      "            Iterations: 14\n",
      "            Function evaluations: 112\n",
      "            Gradient evaluations: 14\n"
     ]
    },
    {
     "name": "stderr",
     "output_type": "stream",
     "text": [
      "C:\\Users\\jkf88\\Anaconda3\\lib\\site-packages\\arch\\__future__\\_utility.py:21: FutureWarning: \n",
      "The default for reindex is True. After September 2021 this will change to\n",
      "False. Set reindex to True or False to silence this message. Alternatively,\n",
      "you can use the import comment\n",
      "\n",
      "from arch.__future__ import reindexing\n",
      "\n",
      "to globally set reindex to True and silence this warning.\n",
      "\n",
      "  FutureWarning,\n"
     ]
    },
    {
     "name": "stdout",
     "output_type": "stream",
     "text": [
      "Iteration:      1,   Func. Count:      7,   Neg. LLF: 7548.428709437389\n",
      "Iteration:      2,   Func. Count:     19,   Neg. LLF: 7536.028652613328\n",
      "Iteration:      3,   Func. Count:     28,   Neg. LLF: 7528.614309752312\n",
      "Iteration:      4,   Func. Count:     37,   Neg. LLF: 7526.402756497846\n",
      "Iteration:      5,   Func. Count:     45,   Neg. LLF: 7522.406938873412\n",
      "Iteration:      6,   Func. Count:     53,   Neg. LLF: 7517.328624491105\n",
      "Iteration:      7,   Func. Count:     61,   Neg. LLF: 7515.31176444776\n",
      "Iteration:      8,   Func. Count:     69,   Neg. LLF: 7511.731824085002\n",
      "Iteration:      9,   Func. Count:     77,   Neg. LLF: 7511.204344875621\n",
      "Iteration:     10,   Func. Count:     84,   Neg. LLF: 7511.159719061984\n",
      "Iteration:     11,   Func. Count:     91,   Neg. LLF: 7511.099171368227\n",
      "Iteration:     12,   Func. Count:     98,   Neg. LLF: 7511.0979602586585\n",
      "Iteration:     13,   Func. Count:    105,   Neg. LLF: 7511.097801900933\n",
      "Iteration:     14,   Func. Count:    112,   Neg. LLF: 7511.097799482188\n",
      "Optimization terminated successfully.    (Exit mode 0)\n",
      "            Current function value: 7511.097799482184\n",
      "            Iterations: 14\n",
      "            Function evaluations: 112\n",
      "            Gradient evaluations: 14\n"
     ]
    },
    {
     "name": "stderr",
     "output_type": "stream",
     "text": [
      "C:\\Users\\jkf88\\Anaconda3\\lib\\site-packages\\arch\\__future__\\_utility.py:21: FutureWarning: \n",
      "The default for reindex is True. After September 2021 this will change to\n",
      "False. Set reindex to True or False to silence this message. Alternatively,\n",
      "you can use the import comment\n",
      "\n",
      "from arch.__future__ import reindexing\n",
      "\n",
      "to globally set reindex to True and silence this warning.\n",
      "\n",
      "  FutureWarning,\n"
     ]
    },
    {
     "name": "stdout",
     "output_type": "stream",
     "text": [
      "Iteration:      1,   Func. Count:      7,   Neg. LLF: 7548.428709437389\n",
      "Iteration:      2,   Func. Count:     19,   Neg. LLF: 7536.028652613328\n",
      "Iteration:      3,   Func. Count:     28,   Neg. LLF: 7528.614309752312\n",
      "Iteration:      4,   Func. Count:     37,   Neg. LLF: 7526.402756497846\n",
      "Iteration:      5,   Func. Count:     45,   Neg. LLF: 7522.406938873412\n",
      "Iteration:      6,   Func. Count:     53,   Neg. LLF: 7517.328624491105\n",
      "Iteration:      7,   Func. Count:     61,   Neg. LLF: 7515.31176444776\n",
      "Iteration:      8,   Func. Count:     69,   Neg. LLF: 7511.731824085002\n",
      "Iteration:      9,   Func. Count:     77,   Neg. LLF: 7511.204344875621\n",
      "Iteration:     10,   Func. Count:     84,   Neg. LLF: 7511.159719061984\n",
      "Iteration:     11,   Func. Count:     91,   Neg. LLF: 7511.099171368227\n",
      "Iteration:     12,   Func. Count:     98,   Neg. LLF: 7511.0979602586585\n",
      "Iteration:     13,   Func. Count:    105,   Neg. LLF: 7511.097801900933\n",
      "Iteration:     14,   Func. Count:    112,   Neg. LLF: 7511.097799482188\n",
      "Optimization terminated successfully.    (Exit mode 0)\n",
      "            Current function value: 7511.097799482184\n",
      "            Iterations: 14\n",
      "            Function evaluations: 112\n",
      "            Gradient evaluations: 14\n"
     ]
    },
    {
     "name": "stderr",
     "output_type": "stream",
     "text": [
      "C:\\Users\\jkf88\\Anaconda3\\lib\\site-packages\\arch\\__future__\\_utility.py:21: FutureWarning: \n",
      "The default for reindex is True. After September 2021 this will change to\n",
      "False. Set reindex to True or False to silence this message. Alternatively,\n",
      "you can use the import comment\n",
      "\n",
      "from arch.__future__ import reindexing\n",
      "\n",
      "to globally set reindex to True and silence this warning.\n",
      "\n",
      "  FutureWarning,\n"
     ]
    },
    {
     "name": "stdout",
     "output_type": "stream",
     "text": [
      "Iteration:      1,   Func. Count:      7,   Neg. LLF: 7548.428709437389\n",
      "Iteration:      2,   Func. Count:     19,   Neg. LLF: 7536.028652613328\n",
      "Iteration:      3,   Func. Count:     28,   Neg. LLF: 7528.614309752312\n",
      "Iteration:      4,   Func. Count:     37,   Neg. LLF: 7526.402756497846\n",
      "Iteration:      5,   Func. Count:     45,   Neg. LLF: 7522.406938873412\n",
      "Iteration:      6,   Func. Count:     53,   Neg. LLF: 7517.328624491105\n",
      "Iteration:      7,   Func. Count:     61,   Neg. LLF: 7515.31176444776\n",
      "Iteration:      8,   Func. Count:     69,   Neg. LLF: 7511.731824085002\n",
      "Iteration:      9,   Func. Count:     77,   Neg. LLF: 7511.204344875621\n",
      "Iteration:     10,   Func. Count:     84,   Neg. LLF: 7511.159719061984\n",
      "Iteration:     11,   Func. Count:     91,   Neg. LLF: 7511.099171368227\n",
      "Iteration:     12,   Func. Count:     98,   Neg. LLF: 7511.0979602586585\n",
      "Iteration:     13,   Func. Count:    105,   Neg. LLF: 7511.097801900933\n",
      "Iteration:     14,   Func. Count:    112,   Neg. LLF: 7511.097799482188\n",
      "Optimization terminated successfully.    (Exit mode 0)\n",
      "            Current function value: 7511.097799482184\n",
      "            Iterations: 14\n",
      "            Function evaluations: 112\n",
      "            Gradient evaluations: 14\n"
     ]
    },
    {
     "name": "stderr",
     "output_type": "stream",
     "text": [
      "C:\\Users\\jkf88\\Anaconda3\\lib\\site-packages\\arch\\__future__\\_utility.py:21: FutureWarning: \n",
      "The default for reindex is True. After September 2021 this will change to\n",
      "False. Set reindex to True or False to silence this message. Alternatively,\n",
      "you can use the import comment\n",
      "\n",
      "from arch.__future__ import reindexing\n",
      "\n",
      "to globally set reindex to True and silence this warning.\n",
      "\n",
      "  FutureWarning,\n"
     ]
    },
    {
     "name": "stdout",
     "output_type": "stream",
     "text": [
      "Iteration:      1,   Func. Count:      7,   Neg. LLF: 7548.428709437389\n",
      "Iteration:      2,   Func. Count:     19,   Neg. LLF: 7536.028652613328\n",
      "Iteration:      3,   Func. Count:     28,   Neg. LLF: 7528.614309752312\n",
      "Iteration:      4,   Func. Count:     37,   Neg. LLF: 7526.402756497846\n",
      "Iteration:      5,   Func. Count:     45,   Neg. LLF: 7522.406938873412\n",
      "Iteration:      6,   Func. Count:     53,   Neg. LLF: 7517.328624491105\n",
      "Iteration:      7,   Func. Count:     61,   Neg. LLF: 7515.31176444776\n",
      "Iteration:      8,   Func. Count:     69,   Neg. LLF: 7511.731824085002\n",
      "Iteration:      9,   Func. Count:     77,   Neg. LLF: 7511.204344875621\n",
      "Iteration:     10,   Func. Count:     84,   Neg. LLF: 7511.159719061984\n",
      "Iteration:     11,   Func. Count:     91,   Neg. LLF: 7511.099171368227\n",
      "Iteration:     12,   Func. Count:     98,   Neg. LLF: 7511.0979602586585\n",
      "Iteration:     13,   Func. Count:    105,   Neg. LLF: 7511.097801900933\n",
      "Iteration:     14,   Func. Count:    112,   Neg. LLF: 7511.097799482188\n",
      "Optimization terminated successfully.    (Exit mode 0)\n",
      "            Current function value: 7511.097799482184\n",
      "            Iterations: 14\n",
      "            Function evaluations: 112\n",
      "            Gradient evaluations: 14\n"
     ]
    },
    {
     "name": "stderr",
     "output_type": "stream",
     "text": [
      "C:\\Users\\jkf88\\Anaconda3\\lib\\site-packages\\arch\\__future__\\_utility.py:21: FutureWarning: \n",
      "The default for reindex is True. After September 2021 this will change to\n",
      "False. Set reindex to True or False to silence this message. Alternatively,\n",
      "you can use the import comment\n",
      "\n",
      "from arch.__future__ import reindexing\n",
      "\n",
      "to globally set reindex to True and silence this warning.\n",
      "\n",
      "  FutureWarning,\n"
     ]
    },
    {
     "name": "stdout",
     "output_type": "stream",
     "text": [
      "Iteration:      1,   Func. Count:      7,   Neg. LLF: 7548.428709437389\n",
      "Iteration:      2,   Func. Count:     19,   Neg. LLF: 7536.028652613328\n",
      "Iteration:      3,   Func. Count:     28,   Neg. LLF: 7528.614309752312\n",
      "Iteration:      4,   Func. Count:     37,   Neg. LLF: 7526.402756497846\n",
      "Iteration:      5,   Func. Count:     45,   Neg. LLF: 7522.406938873412\n",
      "Iteration:      6,   Func. Count:     53,   Neg. LLF: 7517.328624491105\n",
      "Iteration:      7,   Func. Count:     61,   Neg. LLF: 7515.31176444776\n",
      "Iteration:      8,   Func. Count:     69,   Neg. LLF: 7511.731824085002\n",
      "Iteration:      9,   Func. Count:     77,   Neg. LLF: 7511.204344875621\n",
      "Iteration:     10,   Func. Count:     84,   Neg. LLF: 7511.159719061984\n",
      "Iteration:     11,   Func. Count:     91,   Neg. LLF: 7511.099171368227\n",
      "Iteration:     12,   Func. Count:     98,   Neg. LLF: 7511.0979602586585\n",
      "Iteration:     13,   Func. Count:    105,   Neg. LLF: 7511.097801900933\n",
      "Iteration:     14,   Func. Count:    112,   Neg. LLF: 7511.097799482188\n",
      "Optimization terminated successfully.    (Exit mode 0)\n",
      "            Current function value: 7511.097799482184\n",
      "            Iterations: 14\n",
      "            Function evaluations: 112\n",
      "            Gradient evaluations: 14\n"
     ]
    },
    {
     "name": "stderr",
     "output_type": "stream",
     "text": [
      "C:\\Users\\jkf88\\Anaconda3\\lib\\site-packages\\arch\\__future__\\_utility.py:21: FutureWarning: \n",
      "The default for reindex is True. After September 2021 this will change to\n",
      "False. Set reindex to True or False to silence this message. Alternatively,\n",
      "you can use the import comment\n",
      "\n",
      "from arch.__future__ import reindexing\n",
      "\n",
      "to globally set reindex to True and silence this warning.\n",
      "\n",
      "  FutureWarning,\n"
     ]
    },
    {
     "name": "stdout",
     "output_type": "stream",
     "text": [
      "Iteration:      1,   Func. Count:      7,   Neg. LLF: 7548.428709437389\n",
      "Iteration:      2,   Func. Count:     19,   Neg. LLF: 7536.028652613328\n",
      "Iteration:      3,   Func. Count:     28,   Neg. LLF: 7528.614309752312\n",
      "Iteration:      4,   Func. Count:     37,   Neg. LLF: 7526.402756497846\n",
      "Iteration:      5,   Func. Count:     45,   Neg. LLF: 7522.406938873412\n",
      "Iteration:      6,   Func. Count:     53,   Neg. LLF: 7517.328624491105\n",
      "Iteration:      7,   Func. Count:     61,   Neg. LLF: 7515.31176444776\n",
      "Iteration:      8,   Func. Count:     69,   Neg. LLF: 7511.731824085002\n",
      "Iteration:      9,   Func. Count:     77,   Neg. LLF: 7511.204344875621\n",
      "Iteration:     10,   Func. Count:     84,   Neg. LLF: 7511.159719061984\n",
      "Iteration:     11,   Func. Count:     91,   Neg. LLF: 7511.099171368227\n",
      "Iteration:     12,   Func. Count:     98,   Neg. LLF: 7511.0979602586585\n",
      "Iteration:     13,   Func. Count:    105,   Neg. LLF: 7511.097801900933\n",
      "Iteration:     14,   Func. Count:    112,   Neg. LLF: 7511.097799482188\n",
      "Optimization terminated successfully.    (Exit mode 0)\n",
      "            Current function value: 7511.097799482184\n",
      "            Iterations: 14\n",
      "            Function evaluations: 112\n",
      "            Gradient evaluations: 14\n"
     ]
    },
    {
     "name": "stderr",
     "output_type": "stream",
     "text": [
      "C:\\Users\\jkf88\\Anaconda3\\lib\\site-packages\\arch\\__future__\\_utility.py:21: FutureWarning: \n",
      "The default for reindex is True. After September 2021 this will change to\n",
      "False. Set reindex to True or False to silence this message. Alternatively,\n",
      "you can use the import comment\n",
      "\n",
      "from arch.__future__ import reindexing\n",
      "\n",
      "to globally set reindex to True and silence this warning.\n",
      "\n",
      "  FutureWarning,\n"
     ]
    },
    {
     "name": "stdout",
     "output_type": "stream",
     "text": [
      "Iteration:      1,   Func. Count:      7,   Neg. LLF: 7548.428709437389\n",
      "Iteration:      2,   Func. Count:     19,   Neg. LLF: 7536.028652613328\n",
      "Iteration:      3,   Func. Count:     28,   Neg. LLF: 7528.614309752312\n",
      "Iteration:      4,   Func. Count:     37,   Neg. LLF: 7526.402756497846\n",
      "Iteration:      5,   Func. Count:     45,   Neg. LLF: 7522.406938873412\n",
      "Iteration:      6,   Func. Count:     53,   Neg. LLF: 7517.328624491105\n",
      "Iteration:      7,   Func. Count:     61,   Neg. LLF: 7515.31176444776\n",
      "Iteration:      8,   Func. Count:     69,   Neg. LLF: 7511.731824085002\n",
      "Iteration:      9,   Func. Count:     77,   Neg. LLF: 7511.204344875621\n",
      "Iteration:     10,   Func. Count:     84,   Neg. LLF: 7511.159719061984\n",
      "Iteration:     11,   Func. Count:     91,   Neg. LLF: 7511.099171368227\n",
      "Iteration:     12,   Func. Count:     98,   Neg. LLF: 7511.0979602586585\n",
      "Iteration:     13,   Func. Count:    105,   Neg. LLF: 7511.097801900933\n",
      "Iteration:     14,   Func. Count:    112,   Neg. LLF: 7511.097799482188\n",
      "Optimization terminated successfully.    (Exit mode 0)\n",
      "            Current function value: 7511.097799482184\n",
      "            Iterations: 14\n",
      "            Function evaluations: 112\n",
      "            Gradient evaluations: 14\n"
     ]
    },
    {
     "name": "stderr",
     "output_type": "stream",
     "text": [
      "C:\\Users\\jkf88\\Anaconda3\\lib\\site-packages\\arch\\__future__\\_utility.py:21: FutureWarning: \n",
      "The default for reindex is True. After September 2021 this will change to\n",
      "False. Set reindex to True or False to silence this message. Alternatively,\n",
      "you can use the import comment\n",
      "\n",
      "from arch.__future__ import reindexing\n",
      "\n",
      "to globally set reindex to True and silence this warning.\n",
      "\n",
      "  FutureWarning,\n"
     ]
    },
    {
     "name": "stdout",
     "output_type": "stream",
     "text": [
      "Iteration:      1,   Func. Count:      7,   Neg. LLF: 7548.428709437389\n",
      "Iteration:      2,   Func. Count:     19,   Neg. LLF: 7536.028652613328\n",
      "Iteration:      3,   Func. Count:     28,   Neg. LLF: 7528.614309752312\n",
      "Iteration:      4,   Func. Count:     37,   Neg. LLF: 7526.402756497846\n",
      "Iteration:      5,   Func. Count:     45,   Neg. LLF: 7522.406938873412\n",
      "Iteration:      6,   Func. Count:     53,   Neg. LLF: 7517.328624491105\n",
      "Iteration:      7,   Func. Count:     61,   Neg. LLF: 7515.31176444776\n",
      "Iteration:      8,   Func. Count:     69,   Neg. LLF: 7511.731824085002\n",
      "Iteration:      9,   Func. Count:     77,   Neg. LLF: 7511.204344875621\n",
      "Iteration:     10,   Func. Count:     84,   Neg. LLF: 7511.159719061984\n",
      "Iteration:     11,   Func. Count:     91,   Neg. LLF: 7511.099171368227\n",
      "Iteration:     12,   Func. Count:     98,   Neg. LLF: 7511.0979602586585\n",
      "Iteration:     13,   Func. Count:    105,   Neg. LLF: 7511.097801900933\n",
      "Iteration:     14,   Func. Count:    112,   Neg. LLF: 7511.097799482188\n",
      "Optimization terminated successfully.    (Exit mode 0)\n",
      "            Current function value: 7511.097799482184\n",
      "            Iterations: 14\n",
      "            Function evaluations: 112\n",
      "            Gradient evaluations: 14\n"
     ]
    },
    {
     "name": "stderr",
     "output_type": "stream",
     "text": [
      "C:\\Users\\jkf88\\Anaconda3\\lib\\site-packages\\arch\\__future__\\_utility.py:21: FutureWarning: \n",
      "The default for reindex is True. After September 2021 this will change to\n",
      "False. Set reindex to True or False to silence this message. Alternatively,\n",
      "you can use the import comment\n",
      "\n",
      "from arch.__future__ import reindexing\n",
      "\n",
      "to globally set reindex to True and silence this warning.\n",
      "\n",
      "  FutureWarning,\n"
     ]
    },
    {
     "name": "stdout",
     "output_type": "stream",
     "text": [
      "Iteration:      1,   Func. Count:      7,   Neg. LLF: 7548.428709437389\n",
      "Iteration:      2,   Func. Count:     19,   Neg. LLF: 7536.028652613328\n",
      "Iteration:      3,   Func. Count:     28,   Neg. LLF: 7528.614309752312\n",
      "Iteration:      4,   Func. Count:     37,   Neg. LLF: 7526.402756497846\n",
      "Iteration:      5,   Func. Count:     45,   Neg. LLF: 7522.406938873412\n",
      "Iteration:      6,   Func. Count:     53,   Neg. LLF: 7517.328624491105\n",
      "Iteration:      7,   Func. Count:     61,   Neg. LLF: 7515.31176444776\n",
      "Iteration:      8,   Func. Count:     69,   Neg. LLF: 7511.731824085002\n",
      "Iteration:      9,   Func. Count:     77,   Neg. LLF: 7511.204344875621\n",
      "Iteration:     10,   Func. Count:     84,   Neg. LLF: 7511.159719061984\n",
      "Iteration:     11,   Func. Count:     91,   Neg. LLF: 7511.099171368227\n",
      "Iteration:     12,   Func. Count:     98,   Neg. LLF: 7511.0979602586585\n",
      "Iteration:     13,   Func. Count:    105,   Neg. LLF: 7511.097801900933\n",
      "Iteration:     14,   Func. Count:    112,   Neg. LLF: 7511.097799482188\n",
      "Optimization terminated successfully.    (Exit mode 0)\n",
      "            Current function value: 7511.097799482184\n",
      "            Iterations: 14\n",
      "            Function evaluations: 112\n",
      "            Gradient evaluations: 14\n"
     ]
    },
    {
     "name": "stderr",
     "output_type": "stream",
     "text": [
      "C:\\Users\\jkf88\\Anaconda3\\lib\\site-packages\\arch\\__future__\\_utility.py:21: FutureWarning: \n",
      "The default for reindex is True. After September 2021 this will change to\n",
      "False. Set reindex to True or False to silence this message. Alternatively,\n",
      "you can use the import comment\n",
      "\n",
      "from arch.__future__ import reindexing\n",
      "\n",
      "to globally set reindex to True and silence this warning.\n",
      "\n",
      "  FutureWarning,\n"
     ]
    },
    {
     "name": "stdout",
     "output_type": "stream",
     "text": [
      "Iteration:      1,   Func. Count:      7,   Neg. LLF: 7548.428709437389\n",
      "Iteration:      2,   Func. Count:     19,   Neg. LLF: 7536.028652613328\n",
      "Iteration:      3,   Func. Count:     28,   Neg. LLF: 7528.614309752312\n",
      "Iteration:      4,   Func. Count:     37,   Neg. LLF: 7526.402756497846\n",
      "Iteration:      5,   Func. Count:     45,   Neg. LLF: 7522.406938873412\n",
      "Iteration:      6,   Func. Count:     53,   Neg. LLF: 7517.328624491105\n",
      "Iteration:      7,   Func. Count:     61,   Neg. LLF: 7515.31176444776\n",
      "Iteration:      8,   Func. Count:     69,   Neg. LLF: 7511.731824085002\n",
      "Iteration:      9,   Func. Count:     77,   Neg. LLF: 7511.204344875621\n",
      "Iteration:     10,   Func. Count:     84,   Neg. LLF: 7511.159719061984\n",
      "Iteration:     11,   Func. Count:     91,   Neg. LLF: 7511.099171368227\n",
      "Iteration:     12,   Func. Count:     98,   Neg. LLF: 7511.0979602586585\n",
      "Iteration:     13,   Func. Count:    105,   Neg. LLF: 7511.097801900933\n",
      "Iteration:     14,   Func. Count:    112,   Neg. LLF: 7511.097799482188\n",
      "Optimization terminated successfully.    (Exit mode 0)\n",
      "            Current function value: 7511.097799482184\n",
      "            Iterations: 14\n",
      "            Function evaluations: 112\n",
      "            Gradient evaluations: 14\n"
     ]
    },
    {
     "name": "stderr",
     "output_type": "stream",
     "text": [
      "C:\\Users\\jkf88\\Anaconda3\\lib\\site-packages\\arch\\__future__\\_utility.py:21: FutureWarning: \n",
      "The default for reindex is True. After September 2021 this will change to\n",
      "False. Set reindex to True or False to silence this message. Alternatively,\n",
      "you can use the import comment\n",
      "\n",
      "from arch.__future__ import reindexing\n",
      "\n",
      "to globally set reindex to True and silence this warning.\n",
      "\n",
      "  FutureWarning,\n"
     ]
    },
    {
     "name": "stdout",
     "output_type": "stream",
     "text": [
      "Iteration:      1,   Func. Count:      7,   Neg. LLF: 7548.428709437389\n",
      "Iteration:      2,   Func. Count:     19,   Neg. LLF: 7536.028652613328\n",
      "Iteration:      3,   Func. Count:     28,   Neg. LLF: 7528.614309752312\n",
      "Iteration:      4,   Func. Count:     37,   Neg. LLF: 7526.402756497846\n",
      "Iteration:      5,   Func. Count:     45,   Neg. LLF: 7522.406938873412\n",
      "Iteration:      6,   Func. Count:     53,   Neg. LLF: 7517.328624491105\n",
      "Iteration:      7,   Func. Count:     61,   Neg. LLF: 7515.31176444776\n",
      "Iteration:      8,   Func. Count:     69,   Neg. LLF: 7511.731824085002\n",
      "Iteration:      9,   Func. Count:     77,   Neg. LLF: 7511.204344875621\n",
      "Iteration:     10,   Func. Count:     84,   Neg. LLF: 7511.159719061984\n",
      "Iteration:     11,   Func. Count:     91,   Neg. LLF: 7511.099171368227\n",
      "Iteration:     12,   Func. Count:     98,   Neg. LLF: 7511.0979602586585\n",
      "Iteration:     13,   Func. Count:    105,   Neg. LLF: 7511.097801900933\n",
      "Iteration:     14,   Func. Count:    112,   Neg. LLF: 7511.097799482188\n",
      "Optimization terminated successfully.    (Exit mode 0)\n",
      "            Current function value: 7511.097799482184\n",
      "            Iterations: 14\n",
      "            Function evaluations: 112\n",
      "            Gradient evaluations: 14\n"
     ]
    },
    {
     "name": "stderr",
     "output_type": "stream",
     "text": [
      "C:\\Users\\jkf88\\Anaconda3\\lib\\site-packages\\arch\\__future__\\_utility.py:21: FutureWarning: \n",
      "The default for reindex is True. After September 2021 this will change to\n",
      "False. Set reindex to True or False to silence this message. Alternatively,\n",
      "you can use the import comment\n",
      "\n",
      "from arch.__future__ import reindexing\n",
      "\n",
      "to globally set reindex to True and silence this warning.\n",
      "\n",
      "  FutureWarning,\n"
     ]
    },
    {
     "name": "stdout",
     "output_type": "stream",
     "text": [
      "Iteration:      1,   Func. Count:      7,   Neg. LLF: 7548.428709437389\n",
      "Iteration:      2,   Func. Count:     19,   Neg. LLF: 7536.028652613328\n",
      "Iteration:      3,   Func. Count:     28,   Neg. LLF: 7528.614309752312\n",
      "Iteration:      4,   Func. Count:     37,   Neg. LLF: 7526.402756497846\n",
      "Iteration:      5,   Func. Count:     45,   Neg. LLF: 7522.406938873412\n",
      "Iteration:      6,   Func. Count:     53,   Neg. LLF: 7517.328624491105\n",
      "Iteration:      7,   Func. Count:     61,   Neg. LLF: 7515.31176444776\n",
      "Iteration:      8,   Func. Count:     69,   Neg. LLF: 7511.731824085002\n",
      "Iteration:      9,   Func. Count:     77,   Neg. LLF: 7511.204344875621\n",
      "Iteration:     10,   Func. Count:     84,   Neg. LLF: 7511.159719061984\n",
      "Iteration:     11,   Func. Count:     91,   Neg. LLF: 7511.099171368227\n",
      "Iteration:     12,   Func. Count:     98,   Neg. LLF: 7511.0979602586585\n",
      "Iteration:     13,   Func. Count:    105,   Neg. LLF: 7511.097801900933\n",
      "Iteration:     14,   Func. Count:    112,   Neg. LLF: 7511.097799482188\n",
      "Optimization terminated successfully.    (Exit mode 0)\n",
      "            Current function value: 7511.097799482184\n",
      "            Iterations: 14\n",
      "            Function evaluations: 112\n",
      "            Gradient evaluations: 14\n"
     ]
    },
    {
     "name": "stderr",
     "output_type": "stream",
     "text": [
      "C:\\Users\\jkf88\\Anaconda3\\lib\\site-packages\\arch\\__future__\\_utility.py:21: FutureWarning: \n",
      "The default for reindex is True. After September 2021 this will change to\n",
      "False. Set reindex to True or False to silence this message. Alternatively,\n",
      "you can use the import comment\n",
      "\n",
      "from arch.__future__ import reindexing\n",
      "\n",
      "to globally set reindex to True and silence this warning.\n",
      "\n",
      "  FutureWarning,\n"
     ]
    },
    {
     "name": "stdout",
     "output_type": "stream",
     "text": [
      "Iteration:      1,   Func. Count:      7,   Neg. LLF: 7548.428709437389\n",
      "Iteration:      2,   Func. Count:     19,   Neg. LLF: 7536.028652613328\n",
      "Iteration:      3,   Func. Count:     28,   Neg. LLF: 7528.614309752312\n",
      "Iteration:      4,   Func. Count:     37,   Neg. LLF: 7526.402756497846\n",
      "Iteration:      5,   Func. Count:     45,   Neg. LLF: 7522.406938873412\n",
      "Iteration:      6,   Func. Count:     53,   Neg. LLF: 7517.328624491105\n",
      "Iteration:      7,   Func. Count:     61,   Neg. LLF: 7515.31176444776\n",
      "Iteration:      8,   Func. Count:     69,   Neg. LLF: 7511.731824085002\n",
      "Iteration:      9,   Func. Count:     77,   Neg. LLF: 7511.204344875621\n",
      "Iteration:     10,   Func. Count:     84,   Neg. LLF: 7511.159719061984\n",
      "Iteration:     11,   Func. Count:     91,   Neg. LLF: 7511.099171368227\n",
      "Iteration:     12,   Func. Count:     98,   Neg. LLF: 7511.0979602586585\n",
      "Iteration:     13,   Func. Count:    105,   Neg. LLF: 7511.097801900933\n",
      "Iteration:     14,   Func. Count:    112,   Neg. LLF: 7511.097799482188\n",
      "Optimization terminated successfully.    (Exit mode 0)\n",
      "            Current function value: 7511.097799482184\n",
      "            Iterations: 14\n",
      "            Function evaluations: 112\n",
      "            Gradient evaluations: 14\n"
     ]
    },
    {
     "name": "stderr",
     "output_type": "stream",
     "text": [
      "C:\\Users\\jkf88\\Anaconda3\\lib\\site-packages\\arch\\__future__\\_utility.py:21: FutureWarning: \n",
      "The default for reindex is True. After September 2021 this will change to\n",
      "False. Set reindex to True or False to silence this message. Alternatively,\n",
      "you can use the import comment\n",
      "\n",
      "from arch.__future__ import reindexing\n",
      "\n",
      "to globally set reindex to True and silence this warning.\n",
      "\n",
      "  FutureWarning,\n"
     ]
    },
    {
     "name": "stdout",
     "output_type": "stream",
     "text": [
      "Iteration:      1,   Func. Count:      7,   Neg. LLF: 7548.428709437389\n",
      "Iteration:      2,   Func. Count:     19,   Neg. LLF: 7536.028652613328\n",
      "Iteration:      3,   Func. Count:     28,   Neg. LLF: 7528.614309752312\n",
      "Iteration:      4,   Func. Count:     37,   Neg. LLF: 7526.402756497846\n",
      "Iteration:      5,   Func. Count:     45,   Neg. LLF: 7522.406938873412\n",
      "Iteration:      6,   Func. Count:     53,   Neg. LLF: 7517.328624491105\n",
      "Iteration:      7,   Func. Count:     61,   Neg. LLF: 7515.31176444776\n",
      "Iteration:      8,   Func. Count:     69,   Neg. LLF: 7511.731824085002\n",
      "Iteration:      9,   Func. Count:     77,   Neg. LLF: 7511.204344875621\n",
      "Iteration:     10,   Func. Count:     84,   Neg. LLF: 7511.159719061984\n",
      "Iteration:     11,   Func. Count:     91,   Neg. LLF: 7511.099171368227\n",
      "Iteration:     12,   Func. Count:     98,   Neg. LLF: 7511.0979602586585\n",
      "Iteration:     13,   Func. Count:    105,   Neg. LLF: 7511.097801900933\n",
      "Iteration:     14,   Func. Count:    112,   Neg. LLF: 7511.097799482188\n",
      "Optimization terminated successfully.    (Exit mode 0)\n",
      "            Current function value: 7511.097799482184\n",
      "            Iterations: 14\n",
      "            Function evaluations: 112\n",
      "            Gradient evaluations: 14\n"
     ]
    },
    {
     "name": "stderr",
     "output_type": "stream",
     "text": [
      "C:\\Users\\jkf88\\Anaconda3\\lib\\site-packages\\arch\\__future__\\_utility.py:21: FutureWarning: \n",
      "The default for reindex is True. After September 2021 this will change to\n",
      "False. Set reindex to True or False to silence this message. Alternatively,\n",
      "you can use the import comment\n",
      "\n",
      "from arch.__future__ import reindexing\n",
      "\n",
      "to globally set reindex to True and silence this warning.\n",
      "\n",
      "  FutureWarning,\n"
     ]
    },
    {
     "name": "stdout",
     "output_type": "stream",
     "text": [
      "Iteration:      1,   Func. Count:      7,   Neg. LLF: 7548.428709437389\n",
      "Iteration:      2,   Func. Count:     19,   Neg. LLF: 7536.028652613328\n",
      "Iteration:      3,   Func. Count:     28,   Neg. LLF: 7528.614309752312\n",
      "Iteration:      4,   Func. Count:     37,   Neg. LLF: 7526.402756497846\n",
      "Iteration:      5,   Func. Count:     45,   Neg. LLF: 7522.406938873412\n",
      "Iteration:      6,   Func. Count:     53,   Neg. LLF: 7517.328624491105\n",
      "Iteration:      7,   Func. Count:     61,   Neg. LLF: 7515.31176444776\n",
      "Iteration:      8,   Func. Count:     69,   Neg. LLF: 7511.731824085002\n",
      "Iteration:      9,   Func. Count:     77,   Neg. LLF: 7511.204344875621\n",
      "Iteration:     10,   Func. Count:     84,   Neg. LLF: 7511.159719061984\n",
      "Iteration:     11,   Func. Count:     91,   Neg. LLF: 7511.099171368227\n",
      "Iteration:     12,   Func. Count:     98,   Neg. LLF: 7511.0979602586585\n",
      "Iteration:     13,   Func. Count:    105,   Neg. LLF: 7511.097801900933\n",
      "Iteration:     14,   Func. Count:    112,   Neg. LLF: 7511.097799482188\n",
      "Optimization terminated successfully.    (Exit mode 0)\n",
      "            Current function value: 7511.097799482184\n",
      "            Iterations: 14\n",
      "            Function evaluations: 112\n",
      "            Gradient evaluations: 14\n"
     ]
    },
    {
     "name": "stderr",
     "output_type": "stream",
     "text": [
      "C:\\Users\\jkf88\\Anaconda3\\lib\\site-packages\\arch\\__future__\\_utility.py:21: FutureWarning: \n",
      "The default for reindex is True. After September 2021 this will change to\n",
      "False. Set reindex to True or False to silence this message. Alternatively,\n",
      "you can use the import comment\n",
      "\n",
      "from arch.__future__ import reindexing\n",
      "\n",
      "to globally set reindex to True and silence this warning.\n",
      "\n",
      "  FutureWarning,\n"
     ]
    }
   ],
   "source": [
    "lst_index_VaR_weighted = []\n",
    "lst_sim_cumulative_returns = []\n",
    "\n",
    "for sim_new_shocks in lst_sim_new_shocks:\n",
    "    for index in range(2):  \n",
    "        log_index_ret = [R_AEX, R_FTSE]\n",
    "\n",
    "        # Creat empty list to store VaR values\n",
    "        lst_index_VaR_tmp = []\n",
    "\n",
    "        am = arch_model(log_index_ret[0], vol='GARCH',p=1,o=0,q=1,dist='studentst') #GARCH(1,1) model with constant mean return + standadized t dist\n",
    "        \n",
    "        fitted_model = am.fit()\n",
    "        residuals= fitted_model.resid #GARCH model residuals\n",
    "        conditional_vol=fitted_model.conditional_volatility #Conditional volatilities of GARCH model\n",
    "\n",
    "        MC = 10000 # amount of Monte Carlo replications\n",
    "        VaR_level = 0.01 # the Value-at-Risk parameter `p`\n",
    "\n",
    "        K= 10 # The parameter K determins the length of the holding period, so we obtain a K-day return\n",
    "\n",
    "        # Obtain the GARCH parameters from `x`, the fitted model object generated by the .fit() method in the previous question\n",
    "        #---! STEP A:\n",
    "        [mu,omega,alpha,beta,d1] = fitted_model.params\n",
    "\n",
    "        # initialize a (MC x 1) vector to store the cumulative returns generated in the MC Monte Carlo replications\n",
    "        sim_cumulative_returns = np.zeros([MC,1])\n",
    "\n",
    "        # Simulated shocks\n",
    "        sim_shocks = sim_new_shocks[:,:,index]\n",
    "\n",
    "        for i in range(MC): # we enter the `for loop' of Monte Carlo replications. In each iteration we compute a 10-day ahead return\n",
    "            \n",
    "            # initialize a (K x 1) return vector which will be filled with simulated returns for dates t+1,...,t+K (the vector is refreshed every Monte Carlo iteration)\n",
    "            sim_returns = np.zeros([K,1])\n",
    "            \n",
    "            # initialize a (K x 1) conditional variance vector (the vector is refreshed every Monte Carlo iteration)\n",
    "            sim_condvariance = np.zeros([K,1])\n",
    "            \n",
    "            for k in range(K): # we now generate K consecutive returns by iterating the volatility process, and utilizing the random shock draws\n",
    "                \n",
    "                if k == 0: # note that Python indexes the first element in a loop or vector as '0'\n",
    "                    # on the first day of the holding period we can use the 1-day ahead GARCH volatility forecast\n",
    "                    #---! STEP B:\n",
    "                    sim_condvariance[k] = fitted_model.forecast().variance['h.1']['2020-03-12']\n",
    "                elif k > 0: # for further days in the future we use the garch equation putting in the simulated shocks\n",
    "                    #---! STEP C:\n",
    "                    sim_condvariance[k] = omega + alpha * (np.sqrt(sim_condvariance[k-1]) * sim_new_shocks[k-1,i,index])**2 + beta * sim_condvariance[k-1]\n",
    "                \n",
    "                # calculate and save the simulated return\n",
    "                sim_returns[k] = mu + np.sqrt(sim_condvariance[k]) * sim_new_shocks [k,i,index];    \n",
    "                \n",
    "            # estimate cumulative holding period return and save it as element 'i' in the (MC x 1) vector of sim_cumulative_returns\n",
    "            #---! STEP D: \n",
    "            sim_cumulative_returns[i] = sum(sim_returns)\n",
    "\n",
    "        # now we have simulated the cumulative returns for each of our Monte Carlo iterations we can estimate the Value-at-Risk using the sample percentile function\n",
    "        #---! Step E:\n",
    "        VaR = -np.percentile(sim_cumulative_returns, 100 * VaR_level)\n",
    "\n",
    "        # Append         \n",
    "        lst_index_VaR_tmp.append(VaR) \n",
    "    \n",
    "    lst_index_VaR_weighted.append(np.mean(lst_index_VaR_tmp))\n",
    "    lst_sim_cumulative_returns.append(sim_cumulative_returns)\n"
   ]
  },
  {
   "cell_type": "code",
   "execution_count": 18,
   "metadata": {},
   "outputs": [
    {
     "data": {
      "image/png": "[encoded data removed]",
      "text/plain": [
       "<Figure size 432x288 with 1 Axes>"
      ]
     },
     "metadata": {
      "needs_background": "light"
     },
     "output_type": "display_data"
    }
   ],
   "source": [
    "import pylab\n",
    "\n",
    "# x axis values\n",
    "x = lst_copular_corr\n",
    "# corresponding y axis values\n",
    "y = lst_index_VaR_weighted\n",
    " \n",
    "# plotting the points\n",
    "plt.plot(x, y)\n",
    " \n",
    "# naming the x axis\n",
    "plt.xlabel('copular correlation')\n",
    "# naming the y axis\n",
    "plt.ylabel('VaR')\n",
    "\n",
    "# calc the trendline\n",
    "z = np.polyfit(x, y, 1)\n",
    "p = np.poly1d(z)\n",
    "pylab.plot(x,p(x),\"r--\")\n",
    "\n",
    "# giving a title to my graph\n",
    "plt.title('copular correlation vs VaR ')\n",
    " \n",
    "# function to show the plot\n",
    "plt.show()\n"
   ]
  },
  {
   "cell_type": "markdown",
   "metadata": {},
   "source": [
    "Discussion of results:\n",
    "\n",
    "- In advance, VaR should be positive number. Interestingly, we have found that the correlation between AEX and FTSE has no effect on VaR. Although we can see that the midline slightly decrease, the sharpness is almost zero. \n",
    "\n",
    "- We have used sum function to compute the total log return. sim_cumulative_returns[i] = sum(sim_returns). If the returns are just normal return, we will use comprod function.\n",
    " "
   ]
  }
 ],
 "metadata": {
  "colab": {
   "collapsed_sections": [],
   "name": "Assignment1_new.ipynb",
   "provenance": [],
   "toc_visible": true
  },
  "kernelspec": {
   "display_name": "Python 3 (ipykernel)",
   "language": "python",
   "name": "python3"
  },
  "language_info": {
   "codemirror_mode": {
    "name": "ipython",
    "version": 3
   },
   "file_extension": ".py",
   "mimetype": "text/x-python",
   "name": "python",
   "nbconvert_exporter": "python",
   "pygments_lexer": "ipython3",
   "version": "3.8.8"
  }
 },
 "nbformat": 4,
 "nbformat_minor": 1
}
