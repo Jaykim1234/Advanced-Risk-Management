{
 "cells": [
  {
   "cell_type": "markdown",
   "metadata": {
    "id": "kknqZZRPtK0t"
   },
   "source": [
    "# Advanced Risk Management – Assignment 1\n",
    "\n",
    "**Deadline**:  28 February 2022, 13.00h.\n",
    "\n",
    "| |Name |Student number|Email|\n",
    "|:-|:----|:-------------|:----|\n",
    "|1.|  |        |     |\n",
    "|2.|  |        |     |\n",
    "|3.|  |        |     |\n",
    "\n",
    "****Hand in the following via Canvas****:\n",
    "* Your notebook.\n",
    "* A (printed) pdf version of your notebook. In Google Colab, this is most conveniently done in the Chrome browser, and then using the **`File` -> `Print`** menu option; you may have to print in landscape mode to make sure that everything appears in the pdf.\n",
    "* Files must adhere to the following naming format to be considered eligible: 'Assignment1_STUDENTNUMBER1_STUDENTNUMBER2_STUDENTNUMBER3.ipynb' and 'Assignment1_STUDENTNUMBER1_STUDENTNUMBER2_STUDENTNUMBER3.pdf'. The files and the order of student numbers in the files names must be exactly identical for each member in a team. \n",
    "\n",
    "\n",
    "**Notes**:\n",
    "* The assignment is part of the examination, so the usual rules regarding plagiarism and fraud apply.\n",
    "* Before submitting your work, click on **`Runtime`-> `Restart and run all ...`** and verify that your notebook produces the desired results and does not error.\n",
    "\n",
    "**Declaration of Originality**: We, whose names are given under 1., 2., and 3., above declare that these solutions are solely our own work, and that we have not made these solutions available to any other student."
   ]
  },
  {
   "cell_type": "markdown",
   "metadata": {
    "id": "vyVcGIhkzW1b"
   },
   "source": [
    "## Introduction\n",
    "The file `raw_data_2021.xlsx` contains daily data (January 2000 – January 2021, or a sub-period), for a number of international stock market indices, on the closing price and the daily realized variance RV (obtained from 5-minute returns).\n",
    "A list of the included indices is given on the website of the data provider, see\n",
    "https://realized.oxford-man.ox.ac.uk/data/assets. In this assignment, you are asked to estimate, test and compare several conditional volatility models for one of the indices in terms of their in-sample fit and their out-of-sample forecast quality."
   ]
  },
  {
   "cell_type": "markdown",
   "metadata": {
    "id": "4v62A5fYBUgU"
   },
   "source": [
    "## Question 1: Load, clean, and display data\n",
    "First, install and import the relevant libraries:"
   ]
  },
  {
   "cell_type": "code",
   "execution_count": 16,
   "metadata": {
    "colab": {
     "base_uri": "https://localhost:8080/"
    },
    "executionInfo": {
     "elapsed": 12210,
     "status": "ok",
     "timestamp": 1612441883620,
     "user": {
      "displayName": "Sander Barendse",
      "photoUrl": "",
      "userId": "16020915143525406254"
     },
     "user_tz": -60
    },
    "id": "V2b_YQlgBYt9",
    "outputId": "3bed2062-0703-4b4a-f69c-7e6cc5c77337"
   },
   "outputs": [],
   "source": [
    "# !pip install arch             # uncomment for installing the arch package\n",
    "import numpy as np\n",
    "import os\n",
    "import pandas as pd\n",
    "import datetime as dt\n",
    "import matplotlib.pyplot as plt\n",
    "import scipy.stats as stats\n",
    "import statsmodels.api as sm\n",
    "import statsmodels.formula.api as smf\n",
    "from arch import arch_model\n",
    "from statsmodels.graphics.tsaplots import plot_acf\n",
    "import seaborn as sns"
   ]
  },
  {
   "cell_type": "markdown",
   "metadata": {
    "id": "1m5W_Ks1CNUX"
   },
   "source": [
    "Next, import the data and obtain the returns for all indices. Uncomment and adapt the lines necessary to mount the drive and change the path."
   ]
  },
  {
   "cell_type": "code",
   "execution_count": 17,
   "metadata": {
    "colab": {
     "base_uri": "https://localhost:8080/"
    },
    "executionInfo": {
     "elapsed": 12469,
     "status": "ok",
     "timestamp": 1612443774765,
     "user": {
      "displayName": "Sander Barendse",
      "photoUrl": "",
      "userId": "16020915143525406254"
     },
     "user_tz": -60
    },
    "id": "uDThtdbZz_KU",
    "outputId": "a0697eec-1a9d-4083-adc1-978665c65a8c"
   },
   "outputs": [],
   "source": [
    "# from google.colab import drive\n",
    "# drive.mount('/content/drive')\n",
    "# path = '/content/drive/...'    # change path to your working directory\n",
    "# os.chdir(path)\n",
    "\n",
    "df = pd.read_excel('raw_data_2021.xlsx') # imports the data"
   ]
  },
  {
   "cell_type": "markdown",
   "metadata": {
    "id": "wm45ra2IIpju"
   },
   "source": [
    "Now we transform the data and put the data belonging to our favorite stock index in a DateFrame for further manipulation by running the code below. Pick your favorite index from the list of indices linked to above by adapting the 'Symbol' name below."
   ]
  },
  {
   "cell_type": "code",
   "execution_count": 18,
   "metadata": {
    "colab": {
     "base_uri": "https://localhost:8080/",
     "height": 562
    },
    "executionInfo": {
     "elapsed": 496,
     "status": "error",
     "timestamp": 1612443990291,
     "user": {
      "displayName": "Sander Barendse",
      "photoUrl": "",
      "userId": "16020915143525406254"
     },
     "user_tz": -60
    },
    "id": "-oQ2Hu8PFJ04",
    "outputId": "81a48d10-f486-4527-b522-48a8c6aab962"
   },
   "outputs": [],
   "source": [
    "df['Date'] = df['Date'].str[0:10] # remove irrelevant parts of date string\n",
    "\n",
    "df['Date'] = pd.to_datetime(df['Date'], format='%Y-%m-%d') # transform date strings to datetime \n",
    "df = df.set_index(['Date']) # set index of DataFrame to the date column\n",
    "\n",
    "df['R'] = np.log(df['close_price']) - np.log((df['close_price']).shift(1)) # calculate close-to-close returns\n",
    "df.dropna() # drop N/A entries\n",
    "\n",
    "sel = df['Symbol']=='.FCHI'   # Boolean array to select index;\n",
    "                       # change '.ABC' to chosen index symbol, e.g., '.FCHI'\n",
    "    \n",
    "R = 100 * (df['R'].loc[sel])['2000-01-04':] # transform returns to percentages (recommended for GARCH package) and remove first row from returns \n",
    "\n",
    "RV = 100**2 * (df['rv5'].loc[sel])['2000-01-04':] # transform realized variances as well\n",
    "RV = RV / RV.mean() / (R**2).mean() # rescale realized variances to account for close-to-open news\n",
    "RV = RV**0.5 # transform realized variance to realized volatility"
   ]
  },
  {
   "cell_type": "markdown",
   "metadata": {
    "id": "kityY-O2LB4h"
   },
   "source": [
    "Display a line graph of the returns, the realized volatility, and the standardizes returns (the return divided by its realized volatility).  Calculate the skewness and kurtosis of the returns and the standardized returns. Summarize your findings. What can you conclude?"
   ]
  },
  {
   "cell_type": "code",
   "execution_count": 19,
   "metadata": {
    "colab": {
     "base_uri": "https://localhost:8080/",
     "height": 841
    },
    "executionInfo": {
     "elapsed": 1077,
     "status": "ok",
     "timestamp": 1612444026729,
     "user": {
      "displayName": "Sander Barendse",
      "photoUrl": "",
      "userId": "16020915143525406254"
     },
     "user_tz": -60
    },
    "id": "rZvqwr1FLReZ",
    "outputId": "4bcc9cdf-411e-417f-b07b-1141c859f3b4"
   },
   "outputs": [
    {
     "data": {
      "image/png": "[encoded data removed]",
      "text/plain": [
       "<Figure size 432x288 with 1 Axes>"
      ]
     },
     "metadata": {
      "needs_background": "light"
     },
     "output_type": "display_data"
    },
    {
     "data": {
      "image/png": "[encoded data removed]",
      "text/plain": [
       "<Figure size 432x288 with 1 Axes>"
      ]
     },
     "metadata": {
      "needs_background": "light"
     },
     "output_type": "display_data"
    },
    {
     "data": {
      "image/png": "[encoded data removed]",
      "text/plain": [
       "<Figure size 432x288 with 1 Axes>"
      ]
     },
     "metadata": {
      "needs_background": "light"
     },
     "output_type": "display_data"
    },
    {
     "name": "stdout",
     "output_type": "stream",
     "text": [
      "Skewness\n",
      "Return: -0.22364834900788655 / Standardized returns: 0.17529279573295986\n",
      "Kurtosis\n",
      "Return: 5.838868268627145 / Standardized returns: -0.002004169340203532\n"
     ]
    }
   ],
   "source": [
    "# line graph of the returns\n",
    "R.plot()\n",
    "plt.title('Figure 1: AEX Returns')\n",
    "plt.legend(['R'])\n",
    "plt.show()\n",
    "\n",
    "# the realized volatility\n",
    "RV.plot()\n",
    "plt.title('Figure 2: AEX Realized Volatility')\n",
    "plt.legend(['RV'])\n",
    "plt.show()\n",
    "\n",
    "\n",
    "# the standardizes returns (the return divided by its realized volatility)\n",
    "std_R = R/RV;std_R\n",
    "\n",
    "std_R.plot()\n",
    "plt.title('Figure 3: AEX Standardized Returns')\n",
    "plt.legend(['std_R'])\n",
    "plt.show()\n",
    "\n",
    "\n",
    "# Calculate the skewness and kurtosis of the returns and the standardized returns. \n",
    "# returns the skewness of a series\n",
    "\n",
    "print(\"Skewness\")\n",
    "print('Return:',R.skew(),'/ Standardized returns:',std_R.skew())\n",
    "\n",
    "# returns the excess kurtosis of a series\n",
    "\n",
    "print(\"Kurtosis\")\n",
    "print('Return:',R.kurtosis() ,'/ Standardized returns:',std_R.kurtosis())\n"
   ]
  },
  {
   "cell_type": "markdown",
   "metadata": {
    "id": "60C90oALLThc"
   },
   "source": [
    "Discussion of results: [10 pts.]\n",
    "\n",
    "The AEX raw returns show the unstable change over time. And the realized volatility is also highly volatile. On the other hand, the AEX standardized returns is more stable with constant upper and lower limits. We can expect that the standardized returns are more reliable and valid result because less outliers and more concentration in the limit imply the normal distributio.\n",
    "\n",
    "In the next step, we should verify our hypothesis. the Jarque-Bera test will be used to check the significance. \n",
    "\n",
    "Jarque-Bera test is designed to test the normality (goodness of fit test). The test statistic for JB test with p = 99.5% is 10.597.\n",
    "The actual result of the AEX raw return is larger than JB test statistic. (7655.791 > 10.597)\n",
    "The actual result of the AEX standardized return is larger than JB test statistic. (27.44 > 10.597)\n",
    "The p values from two types of returns are also significant (p < 0.0)\n",
    "\n",
    "\n",
    "As a result, both raw and standardized returns are normally distribued. After the result is significant, the smaller value of JB test is more normally distributed. Therefore, the AEX standardized returns are more nomally distributed. "
   ]
  },
  {
   "cell_type": "markdown",
   "metadata": {
    "id": "63Thc8rvtK0y"
   },
   "source": [
    "## Question 2: Fitting a t distribution\n",
    "\n",
    "It seems the returns have heavy tails. One way of modelling this property is to assume the returns are t distributed. \n",
    "1. The code below fits a t ditribution to the data. Fit a t distribution to the data, assuming returns have mean zero. Provide the estimated value of the degrees of freedom parameter $d$ and discuss your result. \n",
    "2. Using the formula on Slide 16 of Week 3, estimate the $p$th quantile of the standardized t distribution with degrees of freedom parameter $d$. Use $p=0.01$. Compare this value to the $p$th quantile of the standard normal distribution.\n",
    "3. If we assume that the volatility is constant over time (an unrealistic assumption, but still one we can make), the quantiles can be used to obtain VaR forecasts for both distributions (see again Slide 16 of Week 3). Obtain the VaR forecasts and compute the percentage of exceedences. Use the standard deviation of the returns to estimate the constant volatility $\\sigma$.\n",
    "\n",
    "Discuss your findings for each step."
   ]
  },
  {
   "cell_type": "code",
   "execution_count": 20,
   "metadata": {
    "colab": {
     "base_uri": "https://localhost:8080/"
    },
    "executionInfo": {
     "elapsed": 4358,
     "status": "ok",
     "timestamp": 1612444404485,
     "user": {
      "displayName": "Sander Barendse",
      "photoUrl": "",
      "userId": "16020915143525406254"
     },
     "user_tz": -60
    },
    "id": "CBIAS1S8BOhu",
    "outputId": "b2c17852-e4e7-4a96-a82b-03aeab14dc91",
    "scrolled": true
   },
   "outputs": [
    {
     "name": "stdout",
     "output_type": "stream",
     "text": [
      "d: 3.193050091586103\n",
      "1th quantile: -2.645743277492504\n",
      "VaR_forecast: 3.7747425356071584\n",
      "Percentage of exceedence 0.01362448674878686\n"
     ]
    }
   ],
   "source": [
    "# 1\n",
    "# Fit a t distribution to the data, assuming returns have mean zero. \n",
    "d,location,scale = stats.t.fit(R, floc=0) \n",
    "\n",
    "# Provide the estimated value of the degrees of freedom parameter $d$ and discuss your result. \n",
    "print('d:',d )\n",
    "\n",
    "# 2\n",
    "# estimate the $p$th quantile of the standardized t distribution with degrees of freedom parameter $d$.\n",
    "# Use $p=0.01$. Compare this value to the pth quantile of the standard normal distribution.\n",
    "p=0.01\n",
    "pquantile = np.sqrt((d-2)/d) * stats.t.ppf(p,d,loc=0,scale=1)\n",
    "print(f'{int(p*100)}th quantile:', pquantile)\n",
    "\n",
    "\n",
    "# 3\n",
    "# Obtain the 'VaR forecasts' and compute the 'percentage of exceedences'. \n",
    "# Use the standard deviation of the returns to estimate the constant volatility $\\sigma$.\n",
    "c = np.std(R) # a constantseries / cons_std = R*0 + c\n",
    "t_p = stats.t.ppf(0.01, d)\n",
    "VaR_forecast = -c*((d-2)/d)**(1/2)*t_p\n",
    "print('VaR_forecast:', VaR_forecast )\n",
    "\n",
    "hit_series = np.where(R < -VaR_forecast, 1, 0) # Create a hit series. 1: if R < -VaR_forecast\n",
    "per_exceed = sum(hit_series)/len(hit_series)   # Calculate the percentage of exceedence.\n",
    "print('Percentage of exceedence', per_exceed)\n"
   ]
  },
  {
   "cell_type": "code",
   "execution_count": 21,
   "metadata": {},
   "outputs": [],
   "source": [
    "# #--- sample code\n",
    "# d,location,scale = stats.t.fit(return,floc=0) # fits a t distribution to the series; the output params is a vector [d,location,scale]; floc=0 sets mean estimate to zero. We ONLY care about d!\n",
    "# pquantile = np.sqrt((d-2)/d) * stats.t.ppf(p,d,loc=0,scale=1) # returns the p-th quantile of the STANDARDIZED t distribution with degrees of freedom d, mean zero, and scale sd\n",
    "# constantseries = 0 * series + c # returns a constantseries with same length as series and with every entry equal to c\n",
    "# np.std(series) # returns the standard deviation of the series\n",
    "# #---"
   ]
  },
  {
   "cell_type": "markdown",
   "metadata": {},
   "source": [
    "Discussion of results  [10 pts]:\n",
    "\n",
    "2.1\n",
    "The estimated value of the degree of freedom is 3.19. This is not sufficiently large to derive the perfect form of the normal distribution. With rounding up to integer, we can regard the degree of freedom is 3. The Student's t distribution with df = 3 has the more excess kurtosis and heavier tail than the normal distribution does.   \n",
    "\n",
    "2.2\n",
    "The 1th percentile of the standard normal distribution is (-)2.576. The absolute value of the standard normal distribution is larger than the 1th percentile of the t distibution. The result proves that the t distribution has more excess kurtosis than those of the standard normal distribution\n",
    "\n",
    "2.3\n",
    "VaR forecast 3.7747 means 99% confidence that the portfolio will NOT lose more than 3.7747 over the next period. \n",
    "The percentage of exceedance (1.36%) means that observed returns worse than minus VaR are 1.36% of the whole portfolio. "
   ]
  },
  {
   "cell_type": "markdown",
   "metadata": {
    "id": "269CTQiHBOhv"
   },
   "source": [
    "## Question 3: Extreme value theory\n",
    "\n",
    "We can also use Extreme Value Theory to estimate VaR.\n",
    "\n",
    "1. The simplest setting uses the formula for VaR on Slide 21 of Week 3: $\\text{VaR}^p_{t+1} = \\sigma_{t+1} u\\bigl( \\frac{p}{T_u/T}\\bigr)^\\xi$, where $u$ denotes the threshold, and $T_u$ denotes the number of losses exceeding the threshold. Use $T_u = 0.05 T$, being 5\\% of the total data. Choose $u$ equal to the 95% percentile of the losses. Estimate $\\xi$ with the Hill estimator. Describe which observations are used in this method (using the threshold). Also discuss what the estimate of $\\xi$ implies.\n",
    "\n",
    "2. Set $\\sigma_{t+1} = \\sigma$, for all time periods $t$, and let $\\sigma$ denote the value found in Question 2. Obtain an estimate of VaR, at $p=0.01$, and calculate the percentage of exceedences.\n",
    "\n"
   ]
  },
  {
   "cell_type": "markdown",
   "metadata": {},
   "source": [
    "### Q. 3.1"
   ]
  },
  {
   "cell_type": "code",
   "execution_count": 50,
   "metadata": {
    "id": "FFhK9P4kvOzh",
    "outputId": "8688e080-192c-4620-fb81-daef77c5d10b"
   },
   "outputs": [
    {
     "name": "stdout",
     "output_type": "stream",
     "text": [
      "xi : 3.6399006890688996\n"
     ]
    }
   ],
   "source": [
    "# Choose $u$ equal to the 95% percentile of the losses.\n",
    "loss = R.loc[R<0]  # Should R be here or z should be?\n",
    "\n",
    "u = -loss.quantile(5/100) # Set threshold.\n",
    "\n",
    "T = len(R) # obtain length of return series.\n",
    "Tu = int(np.floor(0.05*T))\n",
    "\n",
    "# Describe which observations are used in this method (using the threshold). \n",
    "\n",
    "# Also discuss what the estimate of $\\xi$ implie\n",
    "# Estimate xi with the Hill estimator. \n",
    "x = -(R - R.mean())/np.std(R) # Here we have used -z as observations.\n",
    "ysort = np.flipud(np.sort(x)) # Sort observations.\n",
    "xi_hill = np.mean(np.log(ysort[:Tu-1]/u)) # Tail index\n",
    "print('xi :', xi_hill)"
   ]
  },
  {
   "cell_type": "code",
   "execution_count": 23,
   "metadata": {},
   "outputs": [],
   "source": [
    "#--- sample code\n",
    "# len(series) # obtain length of series\n",
    "# int(np.floor(number)) # returns closest integer smaller than number (useful to make Tu an integer)\n",
    "# series.quantile(n/100) # obtain nth percentile of a series\n",
    "# # Hill estimator\n",
    "# series_sorted = np.flipud(np.sort(series))  # sort series in descending order, largest values first \n",
    "# xi_hill = np.mean(np.log(series_sorted[:Tu-1]/u)) # hill estimator (note: Tu must be an integer)\n",
    "#---"
   ]
  },
  {
   "cell_type": "markdown",
   "metadata": {},
   "source": [
    "### Q. 3.2"
   ]
  },
  {
   "cell_type": "code",
   "execution_count": 33,
   "metadata": {},
   "outputs": [
    {
     "name": "stdout",
     "output_type": "stream",
     "text": [
      "44.11007192005083\n"
     ]
    },
    {
     "data": {
      "text/plain": [
       "44.11007192005083"
      ]
     },
     "execution_count": 33,
     "metadata": {},
     "output_type": "execute_result"
    }
   ],
   "source": [
    "# Obtain an estimate of VaR, at $p=0.01$, and calculate the percentage of exceedences.\n",
    "\n",
    "p = 0.01 # Set p=0.01\n",
    "var = c*u*(p/(Tu/T))**(-xi_hill)\n",
    "print(var)\n",
    "var"
   ]
  },
  {
   "cell_type": "markdown",
   "metadata": {
    "id": "qLiGCe2TtK1E"
   },
   "source": [
    "Discussion of results [10 pts]:"
   ]
  },
  {
   "cell_type": "markdown",
   "metadata": {
    "id": "EkpnWjK_tK1M"
   },
   "source": [
    "## Question 4: Adding time-varying volatility\n",
    "In Question 1 we've found that the standardized returns display no excess kurtosis. The standardization was carried out using ex post realized volatility: We used the realized volatility observed at the end of the day $t$ to standardize the return at the end of time $t$. To use the realized volatility for Value-at-Risk forecasting we must create ex ante forecasts of realized volatility.\n",
    "\n",
    "1. We use a simple AR model to create Value-at-Risk forecasts. AR models can be estimated using OLS, by regressing the current value of RV on its lag and a constant (Use smf.ols() and don't forget to lag a regressor using d.shift(1).) Plot the ex post RV and its forecast together (Add the forecast to the DataFrame dfregress, dfregress['forecast'] = forecast, and use .plot()). Discuss your findings.\n",
    "\n",
    "2. Create standardized return shocks (or simply shocks) by dividing the return by the volatility forecast from the AR(1) model and estimate the kurtosis.\n",
    "\n",
    "3. Estimate VaR forecasts for the shocks using the standardized t distribution, standardized normal distribution and EVT theory. Don't forget to multiply the forecasts by the standard deviation of the shocks, in case of the standardized t and normal distribution. This is important, because the shocks have standard deviation quite far from 1. Then transform the VaR forecasts for shocks to VaR forecasts for returns by multiplying the VaR forecast for shocks by the realized volatility forecast.  Plot the VaR forecasts for the returns together in a plot (You can use the DataFrame trick again). (Note: you must estimate the standard deviation of the shocks when you fit the t distribution, because these shocks might not have standard deviation close to one. The same holds for the normal distribution.)\n",
    "\n",
    "3. Calculate the percentage of exceedences. Discuss your findings. Also relate your results to ealier questions. Would other tests be more helpful in finding differences between VaR forecasts based on constant volatility and time-varying volatility models?"
   ]
  },
  {
   "cell_type": "markdown",
   "metadata": {},
   "source": [
    "### Q. 4.1 & Q. 4.2"
   ]
  },
  {
   "cell_type": "code",
   "execution_count": 27,
   "metadata": {
    "id": "TT_mZiVDtK1Q",
    "outputId": "146aeea9-b86a-46ae-af82-5e44d13d11d2",
    "scrolled": true
   },
   "outputs": [
    {
     "name": "stdout",
     "output_type": "stream",
     "text": [
      "Kurtosis\n",
      "Standardized return shocks: 1.0574028195569807\n"
     ]
    },
    {
     "data": {
      "image/png": "[encoded data removed]",
      "text/plain": [
       "<Figure size 432x288 with 1 Axes>"
      ]
     },
     "metadata": {
      "needs_background": "light"
     },
     "output_type": "display_data"
    }
   ],
   "source": [
    "# create Value-at-Risk forecasts. \n",
    "# by regressing the current value of RV on its lag and a constant \n",
    "# (Use smf.ols() and don't forget to lag a regressor using d.shift(1).) \n",
    "# Plot the ex post RV and its forecast together \n",
    "# (Add the forecast to the DataFrame dfregress, dfregress['forecast'] = forecast, and use .plot()). \n",
    "#  Discuss your findings.\n",
    "\n",
    "dfregress = pd.DataFrame({'Y': RV})\n",
    "model = smf.ols('Y ~ Y.shift(1)', data=dfregress) \n",
    "result = model.fit()\n",
    "parametervector = np.array(result.params)\n",
    "forecast = np.array([RV**0, RV.shift(1)]).transpose().dot(parametervector)\n",
    "shock = R[1:]/forecast[1:]\n",
    "\n",
    "dfregress['forecast'] = forecast\n",
    "dfregress.plot()\n",
    "\n",
    "parametervector = np.array(result.params)\n",
    "forecast = np.array([RV**0, RV.shift(1)]).transpose().dot(parametervector)\n",
    "shock = R[1:]/forecast[1:] # if we standardize by a forecast we must remove the first value in each series\n",
    "\n",
    "print(\"Kurtosis\")\n",
    "print('Standardized return shocks:', shock.kurtosis())"
   ]
  },
  {
   "cell_type": "code",
   "execution_count": 28,
   "metadata": {},
   "outputs": [],
   "source": [
    "# #--- sample code\n",
    "# dfregress = pd.DataFrame({'Y': Y, 'X': X}) # create a Dataframe that contains X series (needed for smf.ols)\n",
    "# model = smf.ols('Y ~ X X.shift(1)', data=dfregress) # generate a linear regression model of X on the intercept and the lag of X\n",
    "\n",
    "# # HINT: Think carefully about what Y and X should represent and whether you really need both in the AR(1) model\n",
    "# result = model.fit()\n",
    "# parametervector = np.array(result.params)\n",
    "# forecast = np.array([X**0, X.shift(1)]).transpose().dot(parametervector)\n",
    "# shock = series[1:]/forecast[1:] # if we standardize by a forecast we must remove the first value in each series\n",
    "# #----"
   ]
  },
  {
   "cell_type": "markdown",
   "metadata": {},
   "source": [
    "### Q. 4.3"
   ]
  },
  {
   "cell_type": "code",
   "execution_count": 58,
   "metadata": {},
   "outputs": [
    {
     "name": "stdout",
     "output_type": "stream",
     "text": [
      "VaR forecasts for shocks (Standardized t distribution): 5.203177331101296\n",
      "VaR forecasts for shocks (Normal distribution): 4.875219003289494\n",
      "VaR forecasts for shocks (Extreme Value Theory): 8.003595906518646\n"
     ]
    }
   ],
   "source": [
    "# 3. Estimate VaR forecasts for the shocks  \n",
    "\n",
    "# the standardized t distribution, \n",
    "d_s, location,scale = stats.t.fit(shock, floc=0)  # Fit a t distribution to the data, assuming returns have mean zero. \n",
    "v_s = np.std(shock) # volatility of shocks.\n",
    "t_p = stats.t.ppf(0.01, d_s)\n",
    "VaR_forecast_t_s = -v_s*((d_s-2)/d_s)**(1/2)*t_p\n",
    "print('VaR forecasts for shocks (Standardized t distribution):', VaR_forecast_t_s )\n",
    "\n",
    "# standardized normal distribution \n",
    "VaR_forecast_norm_s = -v_s*stats.norm.ppf(0.01)\n",
    "print('VaR forecasts for shocks (Normal distribution):', VaR_forecast_norm_s )\n",
    "\n",
    "# EVT theory. \n",
    "loss = shock.loc[shock<0] # Choose u equal to the 95% percentile of the losses.\n",
    "u = -loss.quantile(5/100) # Set threshold.   \n",
    "T = len(shock) # obtain length of return series.\n",
    "Tu = int(np.floor(0.05*T))\n",
    "# x = -(shock- shock.mean())/np.std(shock) # Here we have used -z as observations. !!!! Not sure whether I don't really need this step.\n",
    "ysort = np.flipud(np.sort(shock)) # Sort observations.\n",
    "xi_hill = np.mean(np.log(ysort[:Tu-1]/u)) # Tail index/ Estimate xi with the Hill estimator. \n",
    "p = 0.01 # Set p=0.01\n",
    "VaR_forecast_EVT_s = c*u*(p/(Tu/T))**(-xi_hill) # Obtain an estimate of VaR, at $p=0.01$.\n",
    "print('VaR forecasts for shocks (Extreme Value Theory):',VaR_forecast_EVT_s)\n",
    "\n",
    "\n",
    "# Then transform the VaR forecasts for shocks to VaR forecasts for returns \n",
    "# by multiplying the VaR forecast for shocks by the realized volatility forecast.  \n",
    "# Plot the VaR forecasts for the returns together in a plot \n",
    "# (You can use the DataFrame trick again).\n",
    "# (Note: you must estimate the standard deviation of the shocks when you fit the t distribution, because these shocks might not have standard deviation close to one. The same holds for the normal distribution.)\n",
    "\n"
   ]
  },
  {
   "cell_type": "code",
   "execution_count": 89,
   "metadata": {},
   "outputs": [
    {
     "data": {
      "text/plain": [
       "<AxesSubplot:xlabel='Date'>"
      ]
     },
     "execution_count": 89,
     "metadata": {},
     "output_type": "execute_result"
    },
    {
     "data": {
      "image/png": "[encoded data removed]",
      "text/plain": [
       "<Figure size 432x288 with 1 Axes>"
      ]
     },
     "metadata": {
      "needs_background": "light"
     },
     "output_type": "display_data"
    }
   ],
   "source": [
    "# transform the VaR forecasts for shocks to VaR forecasts for returns \n",
    "\n",
    "df_VaR_forecast_t_r = pd.DataFrame(VaR_forecast_t_s*RV, columns= ['stu-t']) # Create datafram for plotting\n",
    "VaR_forecast_t_r    = VaR_forecast_t_s*RV\n",
    "VaR_forecast_norm_r = VaR_forecast_norm_s*RV\n",
    "VaR_forecast_EVT_r  = VaR_forecast_EVT_s*RV\n",
    "\n",
    "# Plot the VaR forecasts for the returns together in a plot \n",
    "df_VaR_forecast_t_r ['Norm'] = VaR_forecast_norm_r \n",
    "df_VaR_forecast_t_r ['EVT'] = VaR_forecast_EVT_r\n",
    "df_VaR_forecast_t_r.plot()"
   ]
  },
  {
   "cell_type": "markdown",
   "metadata": {},
   "source": [
    "### Q. 4.4"
   ]
  },
  {
   "cell_type": "code",
   "execution_count": 91,
   "metadata": {},
   "outputs": [
    {
     "name": "stdout",
     "output_type": "stream",
     "text": [
      "Percentage of exceedence (Standardized t distribution): 0.0024262784621127288\n",
      "Percentage of exceedence (Normal distribution): 0.002799552071668533\n",
      "Percentage of exceedence (Extreme Value Theory): 0.0\n"
     ]
    }
   ],
   "source": [
    "hit_series_t = np.where(R < -VaR_forecast_t_r , 1, 0) # Create a hit series. 1: if R < -VaR_forecast\n",
    "per_exceed_t = sum(hit_series_t)/len(hit_series_t)   # Calculate the percentage of exceedence.\n",
    "print('Percentage of exceedence (Standardized t distribution):', per_exceed_t)\n",
    "\n",
    "hit_series_n = np.where(R < -VaR_forecast_norm_r, 1, 0) \n",
    "per_exceed_n = sum(hit_series_n)/len(hit_series_n)  \n",
    "print('Percentage of exceedence (Normal distribution):', per_exceed_n)\n",
    "\n",
    "hit_series_evt = np.where(R < -VaR_forecast_EVT_r, 1, 0)\n",
    "per_exceed_evt = sum(hit_series_evt)/len(hit_series_evt)   \n",
    "print('Percentage of exceedence (Extreme Value Theory):', per_exceed_evt)"
   ]
  },
  {
   "cell_type": "code",
   "execution_count": null,
   "metadata": {},
   "outputs": [],
   "source": []
  },
  {
   "cell_type": "code",
   "execution_count": null,
   "metadata": {},
   "outputs": [],
   "source": []
  },
  {
   "cell_type": "code",
   "execution_count": null,
   "metadata": {},
   "outputs": [],
   "source": []
  },
  {
   "cell_type": "code",
   "execution_count": null,
   "metadata": {},
   "outputs": [],
   "source": []
  },
  {
   "cell_type": "code",
   "execution_count": null,
   "metadata": {},
   "outputs": [],
   "source": []
  },
  {
   "cell_type": "code",
   "execution_count": null,
   "metadata": {},
   "outputs": [],
   "source": []
  },
  {
   "cell_type": "code",
   "execution_count": 53,
   "metadata": {},
   "outputs": [
    {
     "name": "stdout",
     "output_type": "stream",
     "text": [
      "VaR forecasts for returns (Standardized t distribution): 4.4425635970364885\n",
      "VaR forecasts for returns (Normal distribution): 4.053310704135658\n",
      "VaR forecasts for returns (Extreme Value Theory): 18.842108242813605\n"
     ]
    }
   ],
   "source": [
    "# 3. Estimate VaR forecasts for the returns  \n",
    "\n",
    "# the standardized t distribution, \n",
    "d_rv, location,scale = stats.t.fit(RV, floc=0)  # Fit a t distribution to the data, assuming returns have mean zero. \n",
    "v_rv = np.std(RV) # volatility of returns.\n",
    "t_p = stats.t.ppf(0.01, d_rv)\n",
    "VaR_forecast_t_rv = -v_rv*((d_rv-2)/d_rv)**(1/2)*t_p\n",
    "print('VaR forecasts for returns (Standardized t distribution):', VaR_forecast_t_s*VaR_forecast_t_rv )\n",
    "\n",
    "# standardized normal distribution \n",
    "VaR_forecast_norm_rv = -v_rv*stats.norm.ppf(0.01)\n",
    "print('VaR forecasts for returns (Normal distribution):', VaR_forecast_norm_s*VaR_forecast_norm_rv )\n",
    "\n",
    "# EVT theory. \n",
    "loss = R.loc[R<0] # Choose u equal to the 95% percentile of the losses.\n",
    "u = -loss.quantile(5/100) # Set threshold. !!!!!! Not sure with 95 or 5  \n",
    "T = len(RV) # obtain length of return series.\n",
    "Tu = int(np.floor(0.05*T))\n",
    "# x = -(RV- RV.mean())/np.std(RV) # Here we have used -z as observations. !!!! Not sure whether I don't really need this step.\n",
    "ysort = np.flipud(np.sort(RV)) # Sort observations.\n",
    "xi_hill = np.mean(np.log(ysort[:Tu-1]/u)) # Tail index/ Estimate xi with the Hill estimator. \n",
    "p = 0.01 # Set p=0.01\n",
    "VaR_forecast_EVT_rv = c*u*(p/(Tu/T))**(-xi_hill) # Obtain an estimate of VaR, at $p=0.01$.\n",
    "print('VaR forecasts for returns (Extreme Value Theory):',VaR_forecast_EVT_s*VaR_forecast_EVT_rv)\n",
    "\n"
   ]
  },
  {
   "cell_type": "code",
   "execution_count": null,
   "metadata": {},
   "outputs": [],
   "source": [
    "# EVT theory. \n",
    "loss = R.loc[R<0] # Choose u equal to the 95% percentile of the losses.\n",
    "u = -loss.quantile(95/100) # Set threshold. !!!!!! Not sure with 95 or 5  \n",
    "T = len(RV) # obtain length of return series.\n",
    "Tu = int(np.floor(0.05*T))\n",
    "# x = -(RV- RV.mean())/np.std(RV) # Here we have used -z as observations. !!!! Not sure whether I don't really need this step.\n",
    "ysort = np.flipud(np.sort(RV)) # Sort observations.\n",
    "xi_hill = np.mean(np.log(ysort[:Tu-1]/u)) # Tail index/ Estimate xi with the Hill estimator. \n",
    "p = 0.01 # Set p=0.01\n",
    "VaR_forecast_EVT_rv = c*u*(p/(Tu/T))**(-xi_hill) # Obtain an estimate of VaR, at $p=0.01$.\n",
    "print('VaR forecasts for returns (Extreme Value Theory):',VaR_forecast_EVT_s*VaR_forecast_EVT_rv)"
   ]
  },
  {
   "cell_type": "code",
   "execution_count": 31,
   "metadata": {},
   "outputs": [],
   "source": [
    "\n",
    "\n",
    "# Then transform the VaR forecasts for shocks to VaR forecasts for returns \n",
    "# by multiplying the VaR forecast for shocks by the realized volatility forecast. \n",
    " \n",
    "# Plot the VaR forecasts for the returns together in a plot \n",
    "# (You can use the DataFrame trick again). (Note: you must estimate the standard deviation of the shocks when you fit the t distribution, \n",
    "# because these shocks might not have standard deviation close to one. \n",
    "# The same holds for the normal distribution.)"
   ]
  },
  {
   "cell_type": "code",
   "execution_count": null,
   "metadata": {},
   "outputs": [],
   "source": []
  },
  {
   "cell_type": "markdown",
   "metadata": {},
   "source": [
    "Discussion of results [15 pts]: "
   ]
  }
 ],
 "metadata": {
  "colab": {
   "collapsed_sections": [],
   "name": "Assignment1_new.ipynb",
   "provenance": [],
   "toc_visible": true
  },
  "kernelspec": {
   "display_name": "Python 3",
   "language": "python",
   "name": "python3"
  },
  "language_info": {
   "codemirror_mode": {
    "name": "ipython",
    "version": 3
   },
   "file_extension": ".py",
   "mimetype": "text/x-python",
   "name": "python",
   "nbconvert_exporter": "python",
   "pygments_lexer": "ipython3",
   "version": "3.8.8"
  }
 },
 "nbformat": 4,
 "nbformat_minor": 1
}
