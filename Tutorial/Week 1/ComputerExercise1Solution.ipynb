{
 "cells": [
  {
   "cell_type": "raw",
   "metadata": {
    "colab_type": "text",
    "id": "55K6A15iHQiO"
   },
   "source": [
    "# ARM Computer Exercise 1"
   ]
  },
  {
   "cell_type": "markdown",
   "metadata": {
    "colab_type": "text",
    "id": "owmCdc4_HQiT"
   },
   "source": [
    "In this exercise, we compare the RiskMetrics VaR to the (Weighted) Historical Simulation approach. We compare the time patterns of the three VaR measures applied to S&P 500 index returns in the period January 2001 through December 2010. Next, we evaluate the three approaches using backtests."
   ]
  },
  {
   "cell_type": "code",
   "execution_count": 1,
   "metadata": {
    "colab": {},
    "colab_type": "code",
    "id": "b8syBZIKHQiW"
   },
   "outputs": [
    {
     "name": "stdout",
     "output_type": "stream",
     "text": [
      "Requirement already satisfied: pandas_datareader in c:\\programdata\\anaconda3\\lib\\site-packages (0.11.0.dev0+6.gfdade48)\n",
      "Requirement already satisfied: lxml in c:\\programdata\\anaconda3\\lib\\site-packages (from pandas_datareader) (4.6.3)\n",
      "Requirement already satisfied: pandas>=0.23 in c:\\programdata\\anaconda3\\lib\\site-packages (from pandas_datareader) (1.3.5)\n",
      "Requirement already satisfied: requests>=2.19.0 in c:\\programdata\\anaconda3\\lib\\site-packages (from pandas_datareader) (2.25.1)\n",
      "Requirement already satisfied: python-dateutil>=2.7.3 in c:\\programdata\\anaconda3\\lib\\site-packages (from pandas>=0.23->pandas_datareader) (2.8.1)\n",
      "Requirement already satisfied: pytz>=2017.3 in c:\\programdata\\anaconda3\\lib\\site-packages (from pandas>=0.23->pandas_datareader) (2021.1)\n",
      "Requirement already satisfied: numpy>=1.17.3 in c:\\programdata\\anaconda3\\lib\\site-packages (from pandas>=0.23->pandas_datareader) (1.20.1)\n",
      "Requirement already satisfied: six>=1.5 in c:\\programdata\\anaconda3\\lib\\site-packages (from python-dateutil>=2.7.3->pandas>=0.23->pandas_datareader) (1.15.0)\n",
      "Requirement already satisfied: chardet<5,>=3.0.2 in c:\\programdata\\anaconda3\\lib\\site-packages (from requests>=2.19.0->pandas_datareader) (4.0.0)\n",
      "Requirement already satisfied: idna<3,>=2.5 in c:\\programdata\\anaconda3\\lib\\site-packages (from requests>=2.19.0->pandas_datareader) (2.10)\n",
      "Requirement already satisfied: urllib3<1.27,>=1.21.1 in c:\\programdata\\anaconda3\\lib\\site-packages (from requests>=2.19.0->pandas_datareader) (1.25.10)\n",
      "Requirement already satisfied: certifi>=2017.4.17 in c:\\programdata\\anaconda3\\lib\\site-packages (from requests>=2.19.0->pandas_datareader) (2020.12.5)\n"
     ]
    }
   ],
   "source": [
    "import numpy as np\n",
    "import pandas as pd\n",
    "!pip install pandas_datareader\n",
    "import pandas_datareader.data as web\n",
    "import datetime as dt\n",
    "import matplotlib.pyplot as plt\n",
    "import seaborn as sns\n",
    "import scipy.stats as stats\n",
    "import statsmodels.api as sm\n",
    "import statsmodels.formula.api as smf\n",
    "import os                     "
   ]
  },
  {
   "cell_type": "markdown",
   "metadata": {
    "colab_type": "text",
    "id": "fROOig6PHQih"
   },
   "source": [
    "Efficient programming of the Weighted Historical Simulation method requires a function that can deliver weighted percentiles from a sample. The code for this has been found on the web, and imported here."
   ]
  },
  {
   "cell_type": "code",
   "execution_count": 2,
   "metadata": {
    "colab": {},
    "colab_type": "code",
    "id": "vdz-qU-VHQik"
   },
   "outputs": [],
   "source": [
    "def weighted_quantile(values, quantiles, sample_weight=None, values_sorted=False, old_style=False):\n",
    "    \"\"\" Source: https://stackoverflow.com/questions/21844024/weighted-percentile-using-numpy\n",
    "    Very close to np.percentile, but supports weights.\n",
    "    NOTE: quantiles should be in [0, 1]!\n",
    "    :param values: np.array with data\n",
    "    :param quantiles: array-like with many quantiles needed\n",
    "    :param sample_weight: array-like of the same length as `array`\n",
    "    :param values_sorted: bool, if True, then will avoid sorting of initial array\n",
    "    :param old_style: if True, will correct output to be consistent with np.percentile.\n",
    "    :return: np.array with computed quantiles.\n",
    "    \"\"\"\n",
    "    values = np.array(values)\n",
    "    quantiles = np.array(quantiles)\n",
    "    if sample_weight is None:\n",
    "        sample_weight = np.ones(len(values))\n",
    "    sample_weight = np.array(sample_weight)\n",
    "    assert np.all(quantiles >= 0) and np.all(quantiles <= 1), 'quantiles should be in [0, 1]'\n",
    "\n",
    "    if not values_sorted: \n",
    "        sorter = np.argsort(values) # Gives indices of sorted 'values'; sorting is in ascending order\n",
    "        values = values[sorter]\n",
    "        sample_weight = sample_weight[sorter]\n",
    "\n",
    "    weighted_quantiles = np.cumsum(sample_weight) - 0.5 * sample_weight\n",
    "    if old_style: # 'if False' means does not execute this statement in this block \n",
    "        # To be convenient with numpy.percentile\n",
    "        weighted_quantiles -= weighted_quantiles[0] # subtract first element\n",
    "        weighted_quantiles /= weighted_quantiles[-1] # divide by last element\n",
    "    else:\n",
    "        weighted_quantiles /= np.sum(sample_weight)\n",
    "    return np.interp(quantiles, weighted_quantiles, values)"
   ]
  },
  {
   "cell_type": "markdown",
   "metadata": {
    "colab_type": "text",
    "id": "RDBie2CXHQiq"
   },
   "source": [
    "Data loading, using pandas datareader connected to Yahoo! Finance.\n",
    "Note that after creating the returns series R:\n",
    "* observations 0:250 refer to year 2000, used to start up (W)HS\n",
    "* observations 251:2765 refer to 2001-2010, evaluation sample"
   ]
  },
  {
   "cell_type": "code",
   "execution_count": 3,
   "metadata": {
    "colab": {},
    "colab_type": "code",
    "id": "ArX7-ItNHQit"
   },
   "outputs": [],
   "source": [
    "st = dt.datetime(2000, 1, 1) # start of the sample\n",
    "en = dt.datetime(2010, 12, 31) # end of the sample\n",
    "data = web.DataReader('^GSPC', 'yahoo', start=st, end=en)\n",
    "S = data['Adj Close'] # from series we choose Adjusted Close price:  is the closing price after adjustments for all applicable splits and dividend distributions.\n",
    "R = 100 * np.log(1 + S.pct_change().dropna()) # define percentage growth (100 like scaling)\n",
    "R.name = 'R' # define the name of constructed series"
   ]
  },
  {
   "cell_type": "code",
   "execution_count": 14,
   "metadata": {},
   "outputs": [
    {
     "data": {
      "text/plain": [
       "Date\n",
       "2000-01-04    0.961655\n",
       "2000-01-05    1.001922\n",
       "2000-01-06    1.000956\n",
       "2000-01-07    1.027090\n",
       "2000-01-10    1.011190\n",
       "                ...   \n",
       "2010-12-27    1.000613\n",
       "2010-12-28    1.000771\n",
       "2010-12-29    1.001009\n",
       "2010-12-30    0.998492\n",
       "2010-12-31    0.999809\n",
       "Name: Adj Close, Length: 2766, dtype: float64"
      ]
     },
     "execution_count": 14,
     "metadata": {},
     "output_type": "execute_result"
    }
   ],
   "source": [
    "np.log(1 +S.pct_change().dropna())\n",
    "1 +S.pct_change().dropna()"
   ]
  },
  {
   "cell_type": "markdown",
   "metadata": {
    "colab_type": "text",
    "id": "gV4p8cxLHQi2"
   },
   "source": [
    "When the above code does not run properly, replace the previous block by the following, which loads the data from the provided csv file; otherwise, skip this block."
   ]
  },
  {
   "cell_type": "code",
   "execution_count": 4,
   "metadata": {
    "colab": {},
    "colab_type": "code",
    "id": "YFafHOp60rto"
   },
   "outputs": [],
   "source": [
    " #dframe = pd.read_csv('SP500.csv', parse_dates=True, index_col='Date')\n",
    " #S = dframe['SP500']\n",
    " #R = 100 * np.log(1 + S.pct_change().dropna())\n",
    " #R.name = 'R'"
   ]
  },
  {
   "cell_type": "markdown",
   "metadata": {
    "colab_type": "text",
    "id": "p4OMNPgdHQjA"
   },
   "source": [
    "### Question 1\n",
    "\n",
    "Calculate the 1%, one-day VaR for S&P 500 index returns for each day in the evaluation period (January 2001 through December 2010), using each of the three methods, and keep the result in three vectors / arrays. To get started, this code below already contains the definition of a weight vector w, based on a historical period m = 250, and a parameter $\\lambda = \\eta = 0.94$ for the WHS and RM methods. Note that WHS and the $\\sigma_{t+1}$ sequence in RM need a start-up sample period, for which we use data from the year 2000 (252 observations).\n",
    "\n",
    "*Note*: an easy way to implement the RM method to construct $\\sigma_t^2$ is to use the `series.ewm()` function from `pandas`. Note that in that function, $\\alpha = 1 - \\lambda$, and also that you need to apply this to the *lagged* squared return (so using the `series.shift()` function)."
   ]
  },
  {
   "cell_type": "code",
   "execution_count": 5,
   "metadata": {
    "colab": {},
    "colab_type": "code",
    "id": "-WaLQGQUHQjD"
   },
   "outputs": [],
   "source": [
    "p = 0.01 # probability for VaR\n",
    "labda = 0.94 # RM\n",
    "m = 250 # historical period\n",
    "eta = labda # WHS\n",
    "tau = np.arange(m,0,-1) # 'm' is the starting point, '0' is the end point (not including), '-1' is the step size (you move backwards)\n",
    "w = eta**tau # Take exponent\n",
    "w /= sum(w) # Weights are sorted from low to high\n",
    "\n",
    "Rsq = (R**2).shift(1) # lagged squared return\n",
    "sigma2 = Rsq.ewm(alpha=1-labda).mean() # compute variance\n",
    "sigma = np.sqrt(sigma2)['1/1/2001':'12/31/2010'] # compute volatility; add datetime index\n",
    "VaR_RM = pd.Series(-sigma*stats.norm.ppf(0.01), name='VaR RM') # you create pandas Series (like a column in a table); one-dimensional array\n",
    "\n",
    "VaR_HS = pd.Series(0*R, name='VaR HS')   # declare a new series, pandas Series\n",
    "for t in range(m,len(R)): # 'm' is included, 'len(R)' is not included\n",
    "    VaR_HS[t] = -np.percentile(R[t-m:t],1) # 1 percentile\n",
    "VaR_HS = VaR_HS['1/1/2001':'12/31/2010'] \n",
    "\n",
    "VaR_WHS = pd.Series(0*R, name='VaR WHS') # declare a new series, pandas Series\n",
    "for t in range(m,len(R)):\n",
    "    VaR_WHS[t] = -weighted_quantile(R[t-m:t],p,w) # function defined above, input elements: series, quantiles, weights\n",
    "VaR_WHS = VaR_WHS['1/1/2001':'12/31/2010'] "
   ]
  },
  {
   "cell_type": "code",
   "execution_count": 27,
   "metadata": {},
   "outputs": [
    {
     "data": {
      "text/plain": [
       "Date\n",
       "2000-01-04         NaN\n",
       "2000-01-05    3.909918\n",
       "2000-01-06    2.725130\n",
       "2000-01-07    2.190769\n",
       "2000-01-10    2.332663\n",
       "                ...   \n",
       "2010-12-27    0.700353\n",
       "2010-12-28    0.679184\n",
       "2010-12-29    0.658764\n",
       "2010-12-30    0.639173\n",
       "2010-12-31    0.620803\n",
       "Name: R, Length: 2766, dtype: float64"
      ]
     },
     "execution_count": 27,
     "metadata": {},
     "output_type": "execute_result"
    }
   ],
   "source": [
    "p = 0.01 # probability for VaR\n",
    "labda = 0.94 # RM\n",
    "m = 250 # historical period\n",
    "eta = labda # WHS\n",
    "tau = np.arange(m,0,-1) #\n",
    "tau\n",
    "w = eta**tau;w\n",
    "w /= sum(w);w\n",
    "Rsq = (R**2).shift(1);Rsq\n",
    "sigma2 = Rsq.ewm(alpha=1-labda).mean();\n",
    "Rsq.ewm(alpha=1-labda).mean()\n",
    "sigma = np.sqrt(sigma2); sigma"
   ]
  },
  {
   "cell_type": "markdown",
   "metadata": {
    "colab_type": "text",
    "id": "rHcfheGCHQjJ"
   },
   "source": [
    "### Question 2\n",
    "\n",
    "Make a figure where each of the three VaR measures are plotted against time. Discuss the similarities and differences."
   ]
  },
  {
   "cell_type": "code",
   "execution_count": 6,
   "metadata": {
    "colab": {
     "base_uri": "https://localhost:8080/",
     "height": 289
    },
    "colab_type": "code",
    "executionInfo": {
     "elapsed": 4551,
     "status": "ok",
     "timestamp": 1581337080375,
     "user": {
      "displayName": "Peter Boswijk",
      "photoUrl": "https://lh3.googleusercontent.com/a-/AAuE7mCK4DuGDZ-PvbGUUXsBP98wnxWXfzP5yW_lBTDlAg=s64",
      "userId": "02332832236395307447"
     },
     "user_tz": -60
    },
    "id": "gdKGNp8hHQjL",
    "outputId": "4a5e3d2f-55b2-43d9-8244-b465e1f6054c"
   },
   "outputs": [
    {
     "data": {
      "text/plain": [
       "<matplotlib.legend.Legend at 0x27a6bacc520>"
      ]
     },
     "execution_count": 6,
     "metadata": {},
     "output_type": "execute_result"
    },
    {
     "data": {
      "image/png": "[encoded data removed]",
      "text/plain": [
       "<Figure size 432x288 with 1 Axes>"
      ]
     },
     "metadata": {
      "needs_background": "light"
     },
     "output_type": "display_data"
    }
   ],
   "source": [
    "plt.figure(figsize=(6, 4))\n",
    "VaR_RM.plot()\n",
    "VaR_HS.plot()\n",
    "VaR_WHS.plot()\n",
    "plt.legend()"
   ]
  },
  {
   "cell_type": "markdown",
   "metadata": {
    "colab_type": "text",
    "id": "51fRJwm_HQjU"
   },
   "source": [
    "We observe the usual “ghosting” behaviour of HS, in particular after the financial crisis of 2008: the VaR stays high for exactly a year. I contrast, RM and WHS are similar to each other; they reduce gradually after the crisis. The peaks in the RM VaR seem a bit higher than the WHS VaR."
   ]
  },
  {
   "cell_type": "markdown",
   "metadata": {
    "colab_type": "text",
    "id": "Obf5c248HQjW"
   },
   "source": [
    "### Question 3\n",
    "\n",
    "Investigate the effect of changing the eta ($\\eta$) parameter in the WHS method: what happens if\n",
    "we give eta a value very close to 1, e.g. 0.999?"
   ]
  },
  {
   "cell_type": "code",
   "execution_count": 7,
   "metadata": {
    "colab": {
     "base_uri": "https://localhost:8080/",
     "height": 289
    },
    "colab_type": "code",
    "executionInfo": {
     "elapsed": 5924,
     "status": "ok",
     "timestamp": 1581337081764,
     "user": {
      "displayName": "Peter Boswijk",
      "photoUrl": "https://lh3.googleusercontent.com/a-/AAuE7mCK4DuGDZ-PvbGUUXsBP98wnxWXfzP5yW_lBTDlAg=s64",
      "userId": "02332832236395307447"
     },
     "user_tz": -60
    },
    "id": "0t0Nuw-rHQjX",
    "outputId": "35266fa6-f4ab-4a5c-bb23-f5d4a15c2928"
   },
   "outputs": [
    {
     "data": {
      "text/plain": [
       "<matplotlib.legend.Legend at 0x27a70839dc0>"
      ]
     },
     "execution_count": 7,
     "metadata": {},
     "output_type": "execute_result"
    },
    {
     "data": {
      "image/png": "[encoded data removed]",
      "text/plain": [
       "<Figure size 432x288 with 1 Axes>"
      ]
     },
     "metadata": {
      "needs_background": "light"
     },
     "output_type": "display_data"
    }
   ],
   "source": [
    "eta = 0.999\n",
    "w = eta**tau\n",
    "w /= sum(w)\n",
    "VaR_WHS2 = pd.Series(0*R, name='VaR WHS2')\n",
    "for t in range(m,len(R)):\n",
    "    VaR_WHS2[t] = -weighted_quantile(R[t-m:t],p,w)\n",
    "VaR_WHS2 = VaR_WHS2['1/1/2001':'12/31/2010']\n",
    "plt.figure(figsize=(6, 4))\n",
    "VaR_RM.plot()\n",
    "VaR_HS.plot()\n",
    "VaR_WHS2.plot()\n",
    "plt.legend()"
   ]
  },
  {
   "cell_type": "markdown",
   "metadata": {
    "colab_type": "text",
    "id": "tvRtbbUjHQjc"
   },
   "source": [
    "For $\\eta$ very close to 1, we observe that the difference between WHS and HS vanishes."
   ]
  },
  {
   "cell_type": "code",
   "execution_count": 8,
   "metadata": {
    "colab": {
     "base_uri": "https://localhost:8080/",
     "height": 53
    },
    "colab_type": "code",
    "executionInfo": {
     "elapsed": 2905,
     "status": "ok",
     "timestamp": 1581337138940,
     "user": {
      "displayName": "Peter Boswijk",
      "photoUrl": "https://lh3.googleusercontent.com/a-/AAuE7mCK4DuGDZ-PvbGUUXsBP98wnxWXfzP5yW_lBTDlAg=s64",
      "userId": "02332832236395307447"
     },
     "user_tz": -60
    },
    "id": "3UMxZLWYxR2r",
    "outputId": "bec98214-3947-4c34-9ee9-953b5a2bbcd8"
   },
   "outputs": [
    {
     "name": "stderr",
     "output_type": "stream",
     "text": [
      "[NbConvertApp] Converting notebook ComputerExercise1Solution.ipynb to html\n",
      "[NbConvertApp] Writing 663198 bytes to ComputerExercise1Solution.html\n"
     ]
    }
   ],
   "source": [
    "!jupyter nbconvert --to html ComputerExercise1Solution.ipynb "
   ]
  }
 ],
 "metadata": {
  "colab": {
   "collapsed_sections": [],
   "name": "ComputerExercise1Solution.ipynb",
   "provenance": []
  },
  "kernelspec": {
   "display_name": "Python 3",
   "language": "python",
   "name": "python3"
  },
  "language_info": {
   "codemirror_mode": {
    "name": "ipython",
    "version": 3
   },
   "file_extension": ".py",
   "mimetype": "text/x-python",
   "name": "python",
   "nbconvert_exporter": "python",
   "pygments_lexer": "ipython3",
   "version": "3.8.8"
  }
 },
 "nbformat": 4,
 "nbformat_minor": 1
}
